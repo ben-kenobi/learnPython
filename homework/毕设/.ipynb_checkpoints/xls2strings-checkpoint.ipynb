{
 "cells": [
  {
   "cell_type": "markdown",
   "metadata": {},
   "source": [
    "### 将字符串表格转换成IOS app开发中使用的.strings文件\n",
    "\n",
    "#### 步骤：\n",
    "- sheet分组\n",
    "    - 读取xsl文件\n",
    "    - 将sheet按照strings文件的划分进行分组\n",
    "    - 遍历分组，按照分组创建文件夹\n",
    "    - 读取分组下的sheet内容，导出成csv文件到分组文件夹中\n",
    "    \n",
    "- 合并分组数据并清洗\n",
    "    - 遍历分组，合并分组下所有csv\n",
    "    - 移除不需要的列和id为空的行\n",
    " \n",
    "- 按语言拆分并导出成.string文件\n",
    "    - 将清理后的数据按照语言拆分成子表\n",
    "    - 遍历所有子表\n",
    "        - 为每个语言创建文件夹\n",
    "        - 将表格内容按照id=value格式转换成字符串\n",
    "        - 对字符串进行合规检查，不合规的自动替换成合规的\n",
    "        - 将字符串写到本地.strings文件中\n",
    "\n",
    "\n",
    "#### TODO: \n",
    "* 比较新旧文案，并输出一份比较结果表格，方便检查文案导出结果\n",
    "* 直接从googlesheet拉取最新表格\n",
    "* 集成到自动化打包流程中"
   ]
  },
  {
   "cell_type": "code",
   "execution_count": 43,
   "metadata": {},
   "outputs": [
    {
     "name": "stdout",
     "output_type": "stream",
     "text": [
      "['Common', '门锁-HomeBaseMini', 'homekit_ios', 'Floodlight', 'Floodlight_SettingS', 'Alarm_System', 'solo_camera', '时区多语言', 'Geofencing', 'repeater', 'Geofencing-后台 ', 'Devices', 'Events', 'DeviceSetting', 'Mode', 'Sdcard_Upgrade', 'DrawerSettings', 'App_Special', 'Player', 'SmartDetection', 'Account', 'Bind', 'CloudStorage', 'Family', 'AppReview', 'richStrings', 'new_guide_page', 'Exception_HB2', 'other', 'Exception(Cloud)', 'Exception(Cloud)（副本）', 'menu_tab', 'push_ios', 'settings_ios', 'ios_infoplist_ios', 'server_message', '云存储套餐', 'server_email', 'Smart_Buoy']\n"
     ]
    }
   ],
   "source": [
    "import pandas as pd\n",
    "from pathlib import Path\n",
    "\n",
    "sys_usr = 'yf'\n",
    "i18n_dir = f'./I18N'\n",
    "Path(i18n_dir).mkdir(parents=True, exist_ok=True)\n",
    "\n",
    "eufy_security_file = pd.ExcelFile(f'{i18n_dir}/Eufy Security 翻译-190214.xlsx')\n",
    "# 打印sheet名，复制需要的sheet名\n",
    "print(eufy_security_file.sheet_names)\n"
   ]
  },
  {
   "cell_type": "code",
   "execution_count": 44,
   "metadata": {},
   "outputs": [],
   "source": [
    "# 创建需要的sheet名与string文件的关联关系\n",
    "main_str_f = 'Localizable'\n",
    "main_csv_fs = ['Common', '门锁-HomeBaseMini', 'homekit_ios', 'Floodlight',\n",
    "               'Geofencing', 'repeater','Devices', 'Events', \n",
    "               'DeviceSetting', 'Mode', 'Sdcard_Upgrade', 'DrawerSettings',\n",
    "               'App_Special', 'Player', 'SmartDetection', 'Account', 'Bind', \n",
    "               'CloudStorage', 'Family', 'AppReview', 'richStrings',\n",
    "               'new_guide_page', 'Exception_HB2', 'other' ]\n",
    "\n",
    "setting_str_f = 'BCCommonSettingPlist'\n",
    "setting_csv_fs = ['Floodlight_SettingS','settings_ios']\n",
    "\n",
    "push_str_f = 'BCBaseLocalizable'\n",
    "push_csv_fs = ['push_ios']\n",
    "\n",
    "info_str_f = 'InfoPlist'\n",
    "info_csv_fs = ['ios_infoplist_ios']\n",
    "\n",
    "menu_str_f = 'MenuListPlist'\n",
    "menu_csv_fs = [ 'menu_tab']\n",
    "\n",
    "file_tree = {\n",
    "    main_str_f: main_csv_fs,\n",
    "    setting_str_f: setting_csv_fs,\n",
    "    push_str_f: push_csv_fs,\n",
    "    info_str_f: info_csv_fs,\n",
    "    menu_str_f: menu_csv_fs\n",
    "}"
   ]
  },
  {
   "cell_type": "code",
   "execution_count": 45,
   "metadata": {},
   "outputs": [],
   "source": [
    "# 遍历倒出成csv格式到指定目录\n",
    "from pathlib import Path\n",
    "\n",
    "\n",
    "def xls2csv_and_save(xlsfile, sheetname, dirname):\n",
    "    csv_dir = f'{i18n_dir}/{dirname}'\n",
    "    Path(csv_dir).mkdir(parents=True, exist_ok=True)\n",
    "    csv_f = f'{csv_dir}/{sheetname}.csv'\n",
    "    sheet_df = xlsfile.parse(sheetname)\n",
    "    sheet_df.to_csv(csv_f)\n",
    "\n",
    "\n",
    "for dirname, sheets in file_tree.items():\n",
    "    for sheetname in sheets:\n",
    "        xls2csv_and_save(eufy_security_file, sheetname, f'csvDir/{dirname}')\n"
   ]
  },
  {
   "cell_type": "code",
   "execution_count": 46,
   "metadata": {},
   "outputs": [],
   "source": [
    "\n",
    "def mergeSheets(sheet_dir,sheets):\n",
    "    df_list = []\n",
    "    # 获取第一张sheet列名，保持所有表列名的统一\n",
    "    csv_f = f'{sheet_dir}/{sheets[0]}.csv'\n",
    "    unify_col = pd.read_csv(csv_f).columns\n",
    "    col_len = len(unify_col)\n",
    "\n",
    "    for sheet_name in sheets:\n",
    "        sheet_f = f'{sheet_dir}/{sheet_name}.csv'\n",
    "        sheet_df = pd.read_csv(sheet_f)\n",
    "        this_col_len = len(sheet_df.columns)\n",
    "        sheet_df.columns = unify_col[0:min(col_len,this_col_len)]  # 统一列名方便合并,列数量不足的表，缺失列当作空处理\n",
    "        df_list.append(sheet_df)\n",
    "    full_df = pd.concat(df_list)\n",
    "    return full_df\n"
   ]
  },
  {
   "cell_type": "code",
   "execution_count": 47,
   "metadata": {},
   "outputs": [],
   "source": [
    "need_col = ['IOS', 'EN',  'ES', 'FR', 'DE', 'IT', 'NL', 'AR', 'JP',\n",
    "           'KR']\n",
    "def merged_data_tidy(full_df):\n",
    "    # 仅保留需要的列\n",
    "    use_df = full_df[need_col]\n",
    "\n",
    "    \n",
    "    # 移除iOS 列值为空的行\n",
    "    use_df = use_df[use_df.IOS.notnull()]\n",
    "\n",
    "    \n",
    "    # 填充空值为空字符\n",
    "\n",
    "    use_df = use_df.fillna('')\n",
    "    return use_df"
   ]
  },
  {
   "cell_type": "code",
   "execution_count": 48,
   "metadata": {},
   "outputs": [],
   "source": [
    "# 将字符串转换成IOS合法字符串\n",
    "\n",
    "def to_valid_ios_str(istr):\n",
    "    new_str = '' + str(istr)\n",
    "    new_str = new_str.replace('\"','\\\\\"')\n",
    "    new_str = new_str.replace('\\\\\\\\\"','\\\\\"')\n",
    "    new_str = new_str.replace('%s','%@')\n",
    "    return new_str"
   ]
  },
  {
   "cell_type": "code",
   "execution_count": 49,
   "metadata": {},
   "outputs": [],
   "source": [
    "# 按照语言拆分成子表格\n",
    "import os\n",
    "\n",
    "def mkdir_if_needed(path):\n",
    "    if not os.path.exists(path):\n",
    "        os.makedirs(path)\n",
    "    return os.path.abspath(path)\n",
    "\n",
    "\n",
    "def separate_by_lan(use_df,dirname):\n",
    "\n",
    "    # 创建目录存放子表\n",
    "    sub_dir = f'{i18n_dir}/子表/{dirname}/'\n",
    "    mkdir_if_needed(sub_dir)\n",
    "\n",
    "    all_sub_df = []\n",
    "    for lan in need_col[1:]:\n",
    "        sub_df = use_df[['IOS',lan]]\n",
    "        sub_df.to_excel(f'{sub_dir}/{lan}.xlsx')\n",
    "        all_sub_df.append(sub_df)\n",
    "    return all_sub_df"
   ]
  },
  {
   "cell_type": "code",
   "execution_count": 50,
   "metadata": {},
   "outputs": [],
   "source": [
    "# 当前文件夹下生成字符串\n",
    "\n",
    "def convert_to_Strings(df,dirname):\n",
    "    # 创建目录存放生成字符串\n",
    "    dest_path = mkdir_if_needed(f'{i18n_dir}/outputDir/')\n",
    "    lan = df.columns[1]  #创建语言目录\n",
    "    dest_dir = mkdir_if_needed(f'{dest_path}/{lan}/')\n",
    "    with open(f'{dest_dir}/{dirname}.strings', 'w') as f:\n",
    "        for idx,tup in df.iterrows():\n",
    "            key = tup[0]\n",
    "            val = to_valid_ios_str(tup[1])\n",
    "            f.write(f'\"{key}\" = \"{val}\";\\r\\n')"
   ]
  },
  {
   "cell_type": "code",
   "execution_count": 51,
   "metadata": {},
   "outputs": [],
   "source": [
    "for dirname, sheets in file_tree.items():\n",
    "    full_df = mergeSheets(f'{i18n_dir}/csvDir/{dirname}', sheets)\n",
    "    use_df = merged_data_tidy(full_df)\n",
    "    all_sub_df = separate_by_lan(use_df,dirname)\n",
    "    # 遍历子表拼接成字串\n",
    "\n",
    "    for df in all_sub_df:\n",
    "        convert_to_Strings(df,dirname)\n",
    "    \n",
    "    "
   ]
  }
 ],
 "metadata": {
  "kernelspec": {
   "display_name": "Python 3",
   "language": "python",
   "name": "python3"
  },
  "language_info": {
   "codemirror_mode": {
    "name": "ipython",
    "version": 3
   },
   "file_extension": ".py",
   "mimetype": "text/x-python",
   "name": "python",
   "nbconvert_exporter": "python",
   "pygments_lexer": "ipython3",
   "version": "3.8.3"
  },
  "toc": {
   "base_numbering": 1,
   "nav_menu": {},
   "number_sections": true,
   "sideBar": true,
   "skip_h1_title": false,
   "title_cell": "Table of Contents",
   "title_sidebar": "Contents",
   "toc_cell": false,
   "toc_position": {},
   "toc_section_display": true,
   "toc_window_display": false
  },
  "varInspector": {
   "cols": {
    "lenName": 16,
    "lenType": 16,
    "lenVar": 40
   },
   "kernels_config": {
    "python": {
     "delete_cmd_postfix": "",
     "delete_cmd_prefix": "del ",
     "library": "var_list.py",
     "varRefreshCmd": "print(var_dic_list())"
    },
    "r": {
     "delete_cmd_postfix": ") ",
     "delete_cmd_prefix": "rm(",
     "library": "var_list.r",
     "varRefreshCmd": "cat(var_dic_list()) "
    }
   },
   "types_to_exclude": [
    "module",
    "function",
    "builtin_function_or_method",
    "instance",
    "_Feature"
   ],
   "window_display": false
  }
 },
 "nbformat": 4,
 "nbformat_minor": 4
}
