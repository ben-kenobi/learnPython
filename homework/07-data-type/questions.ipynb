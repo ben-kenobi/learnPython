{
 "cells": [
  {
   "cell_type": "markdown",
   "metadata": {},
   "source": [
    "# 1. 免学部分\n",
    "* p137~p138\n",
    "* 扣除免学部分只有7面\n"
   ]
  },
  {
   "cell_type": "markdown",
   "metadata": {},
   "source": [
    "# 2. 前言\n",
    "\n",
    "* 大家在做题目前一定要先把第7章的书读一下\n",
    "* 写本作业，请使用 Anaconda 里的 Notebook\n",
    "* 我做了一个[打包下载 Link](https://downgit.github.io/#/home?url=https://github.com/liuhui998/pe2/tree/master/07-data-type), 大家下载下来解压后，使用 Notebook 打开"
   ]
  },
  {
   "cell_type": "markdown",
   "metadata": {},
   "source": [
    "# 3. 学习概要\n",
    "* 我会在每道题有前标明对的书页码\n",
    "* 如果超纲我会提前提示，并加上资料 Link\n",
    "---\n",
    "重点知识：\n",
    "\n",
    "* DataFrame 对象里的某一列是 object(对象), 里面可能有字符串也会有数字\n",
    "\n",
    "---\n",
    "知识点整理\n",
    "\n",
    "* astype 将 DataFrame 对象里的某一列转换为指定类型\n",
    "* dropna 将 DataFrame 对象里为空的数据删掉 [dropna滤除缺失数据](https://blog.csdn.net/weixin_38168620/article/details/79596798)\n",
    "* [pd.read_csv/pd.read_excel 函数中 na_values 参数的意义和用法](https://blog.csdn.net/weixin_44520259/article/details/106053987)\n",
    "* [pd.to_numeric 详细的用法](https://blog.csdn.net/jinruoyanxu/article/details/79150896)"
   ]
  },
  {
   "cell_type": "code",
   "execution_count": 3,
   "metadata": {
    "ExecuteTime": {
     "end_time": "2020-08-03T06:41:00.702556Z",
     "start_time": "2020-08-03T06:41:00.691332Z"
    }
   },
   "outputs": [],
   "source": [
    "import pandas as pd\n"
   ]
  },
  {
   "cell_type": "markdown",
   "metadata": {
    "ExecuteTime": {
     "end_time": "2020-08-01T08:30:23.786877Z",
     "start_time": "2020-08-01T08:30:23.781236Z"
    }
   },
   "source": [
    "# 4. 如何为北美的大客户生成唯一编号\n",
    "--- \n",
    "备注：这里综合了 p100/p109/p132面的内容\n",
    "\n",
    "* 现在回过头讲第5章的内容，是为了加深大家的理解，因为知识是交叉的\n",
    "\n",
    "  了解 [na_values 的意义和用法](https://blog.csdn.net/weixin_44520259/article/details/106053987)，后面清洗数据上会轻松很多 \n",
    "  \n",
    "* dropna 是删除 DataFrame 里为空的数据  [dropna滤除缺失数据](https://blog.csdn.net/weixin_38168620/article/details/79596798)\n",
    "\n",
    "* astype 很好理解，但是 DataFrame 里的某一列是 object(对象), 里面可能有字符串也会有数字\n",
    "\n",
    "---\n",
    "背景：\n",
    "\n",
    "* 你现在负责追踪公司北美大客户的情况\n",
    "* 你需要为每个一个客户生成一个唯一编号\n",
    "* 编号为 区域(region) + 国家(country) + 卖家名（seller_name)\n",
    "* 你要把把所有空的数据去掉(比如没有区域、卖家名信息的行）\n",
    "* 同时也要解决 NA(North America) 被 Pandas 误为空值的情况\n",
    "---\n",
    "*  读取 whole_seller_stats.xlsx 到stats\n",
    "\n",
    "   在 pd.read_excel 函数中指定 na_values = [''], keep_default_na = False 这两个参数\n",
    "   \n",
    "   na_values = [''] 表示只把 ‘’ (空值) 当成空值/缺失值\n",
    "   \n",
    "   keep_default_na = False 表示不把 NA 等字符串当成空值 \n",
    "\n",
    "* 把 stats 空的数据去掉(比如没有区域、卖家名信息的行), 放到 stats_new 中\n",
    "\n",
    "* 查看 stats_new 里各列的数据类型  \n",
    "\n",
    "* 查看 seller_name == \"John\" 这一行 country 的数据类型 (第3行，第2列）\n",
    "\n",
    "* 查看 seller_name == \"Tom\" 这一行 country 的数据类型 (第2行，第2列）\n",
    "\n",
    "* 请尝试执行下面代码，看有什么问题\n",
    "\n",
    "```\n",
    " stats_new['region'] + \"_\" + stats_new['country'] + \"_\" + stats['seller_name']\n",
    "```\n",
    "\n",
    "* 请将 stats_new['country'] 列转成字符串，再将 region + country + seller_name 用下划线连接，放到 stats_new 中的一个新列名叫: unique_id\n"
   ]
  },
  {
   "cell_type": "code",
   "execution_count": 4,
   "metadata": {
    "ExecuteTime": {
     "end_time": "2020-08-03T06:42:39.510798Z",
     "start_time": "2020-08-03T06:42:39.496103Z"
    }
   },
   "outputs": [
    {
     "data": {
      "text/html": [
       "<div>\n",
       "<style scoped>\n",
       "    .dataframe tbody tr th:only-of-type {\n",
       "        vertical-align: middle;\n",
       "    }\n",
       "\n",
       "    .dataframe tbody tr th {\n",
       "        vertical-align: top;\n",
       "    }\n",
       "\n",
       "    .dataframe thead th {\n",
       "        text-align: right;\n",
       "    }\n",
       "</style>\n",
       "<table border=\"1\" class=\"dataframe\">\n",
       "  <thead>\n",
       "    <tr style=\"text-align: right;\">\n",
       "      <th></th>\n",
       "      <th>region</th>\n",
       "      <th>country</th>\n",
       "      <th>seller_name</th>\n",
       "    </tr>\n",
       "  </thead>\n",
       "  <tbody>\n",
       "    <tr>\n",
       "      <th>0</th>\n",
       "      <td>NaN</td>\n",
       "      <td>US</td>\n",
       "      <td>Bob</td>\n",
       "    </tr>\n",
       "    <tr>\n",
       "      <th>1</th>\n",
       "      <td>NaN</td>\n",
       "      <td>US</td>\n",
       "      <td>Tom</td>\n",
       "    </tr>\n",
       "    <tr>\n",
       "      <th>2</th>\n",
       "      <td>NaN</td>\n",
       "      <td>404</td>\n",
       "      <td>John</td>\n",
       "    </tr>\n",
       "    <tr>\n",
       "      <th>3</th>\n",
       "      <td>NaN</td>\n",
       "      <td>CA</td>\n",
       "      <td>Hanks</td>\n",
       "    </tr>\n",
       "    <tr>\n",
       "      <th>4</th>\n",
       "      <td>NaN</td>\n",
       "      <td>US</td>\n",
       "      <td>NaN</td>\n",
       "    </tr>\n",
       "  </tbody>\n",
       "</table>\n",
       "</div>"
      ],
      "text/plain": [
       "   region country seller_name\n",
       "0     NaN      US         Bob\n",
       "1     NaN      US         Tom\n",
       "2     NaN     404        John\n",
       "3     NaN      CA       Hanks\n",
       "4     NaN      US         NaN"
      ]
     },
     "execution_count": 4,
     "metadata": {},
     "output_type": "execute_result"
    }
   ],
   "source": [
    "# 非题目，示例有问题的数据\n",
    "pd.read_excel(\"whole_seller_stats.xlsx\")\n"
   ]
  },
  {
   "cell_type": "code",
   "execution_count": 5,
   "metadata": {
    "ExecuteTime": {
     "end_time": "2020-08-03T06:42:43.116692Z",
     "start_time": "2020-08-03T06:42:43.100205Z"
    }
   },
   "outputs": [
    {
     "data": {
      "text/html": [
       "<div>\n",
       "<style scoped>\n",
       "    .dataframe tbody tr th:only-of-type {\n",
       "        vertical-align: middle;\n",
       "    }\n",
       "\n",
       "    .dataframe tbody tr th {\n",
       "        vertical-align: top;\n",
       "    }\n",
       "\n",
       "    .dataframe thead th {\n",
       "        text-align: right;\n",
       "    }\n",
       "</style>\n",
       "<table border=\"1\" class=\"dataframe\">\n",
       "  <thead>\n",
       "    <tr style=\"text-align: right;\">\n",
       "      <th></th>\n",
       "      <th>region</th>\n",
       "      <th>country</th>\n",
       "      <th>seller_name</th>\n",
       "    </tr>\n",
       "  </thead>\n",
       "  <tbody>\n",
       "    <tr>\n",
       "      <th>0</th>\n",
       "      <td>NA</td>\n",
       "      <td>US</td>\n",
       "      <td>Bob</td>\n",
       "    </tr>\n",
       "    <tr>\n",
       "      <th>1</th>\n",
       "      <td>NA</td>\n",
       "      <td>US</td>\n",
       "      <td>Tom</td>\n",
       "    </tr>\n",
       "    <tr>\n",
       "      <th>2</th>\n",
       "      <td>NA</td>\n",
       "      <td>404</td>\n",
       "      <td>John</td>\n",
       "    </tr>\n",
       "    <tr>\n",
       "      <th>3</th>\n",
       "      <td>NA</td>\n",
       "      <td>CA</td>\n",
       "      <td>Hanks</td>\n",
       "    </tr>\n",
       "    <tr>\n",
       "      <th>4</th>\n",
       "      <td>NA</td>\n",
       "      <td>US</td>\n",
       "      <td>NaN</td>\n",
       "    </tr>\n",
       "  </tbody>\n",
       "</table>\n",
       "</div>"
      ],
      "text/plain": [
       "  region country seller_name\n",
       "0     NA      US         Bob\n",
       "1     NA      US         Tom\n",
       "2     NA     404        John\n",
       "3     NA      CA       Hanks\n",
       "4     NA      US         NaN"
      ]
     },
     "execution_count": 5,
     "metadata": {},
     "output_type": "execute_result"
    }
   ],
   "source": [
    "\n",
    "#读取 whole_seller_stats.xlsx 到stats\n",
    "#在 pd.read_excel 函数中指定 na_values = [''], keep_default_na = False 这两个参数\n",
    "\n",
    "#   na_values = [''] 表示只把 ‘’ (空值) 当成空值/缺失值\n",
    "   \n",
    "#   keep_default_na = False 表示不把 NA 等字符串当成空值 \n",
    "\n",
    "#   如大家不加上面两个参数，read_excel 可能会把 NA 当成空值\n",
    "stats = pd.read_excel('whole_seller_stats.xlsx',na_values=[''],keep_default_na=False)\n",
    "stats"
   ]
  },
  {
   "cell_type": "code",
   "execution_count": 8,
   "metadata": {
    "ExecuteTime": {
     "end_time": "2020-08-03T06:43:22.388753Z",
     "start_time": "2020-08-03T06:43:22.375535Z"
    }
   },
   "outputs": [
    {
     "data": {
      "text/html": [
       "<div>\n",
       "<style scoped>\n",
       "    .dataframe tbody tr th:only-of-type {\n",
       "        vertical-align: middle;\n",
       "    }\n",
       "\n",
       "    .dataframe tbody tr th {\n",
       "        vertical-align: top;\n",
       "    }\n",
       "\n",
       "    .dataframe thead th {\n",
       "        text-align: right;\n",
       "    }\n",
       "</style>\n",
       "<table border=\"1\" class=\"dataframe\">\n",
       "  <thead>\n",
       "    <tr style=\"text-align: right;\">\n",
       "      <th></th>\n",
       "      <th>region</th>\n",
       "      <th>country</th>\n",
       "      <th>seller_name</th>\n",
       "    </tr>\n",
       "  </thead>\n",
       "  <tbody>\n",
       "    <tr>\n",
       "      <th>0</th>\n",
       "      <td>NA</td>\n",
       "      <td>US</td>\n",
       "      <td>Bob</td>\n",
       "    </tr>\n",
       "    <tr>\n",
       "      <th>1</th>\n",
       "      <td>NA</td>\n",
       "      <td>US</td>\n",
       "      <td>Tom</td>\n",
       "    </tr>\n",
       "    <tr>\n",
       "      <th>2</th>\n",
       "      <td>NA</td>\n",
       "      <td>404</td>\n",
       "      <td>John</td>\n",
       "    </tr>\n",
       "    <tr>\n",
       "      <th>3</th>\n",
       "      <td>NA</td>\n",
       "      <td>CA</td>\n",
       "      <td>Hanks</td>\n",
       "    </tr>\n",
       "  </tbody>\n",
       "</table>\n",
       "</div>"
      ],
      "text/plain": [
       "  region country seller_name\n",
       "0     NA      US         Bob\n",
       "1     NA      US         Tom\n",
       "2     NA     404        John\n",
       "3     NA      CA       Hanks"
      ]
     },
     "execution_count": 8,
     "metadata": {},
     "output_type": "execute_result"
    }
   ],
   "source": [
    "#* 把 stats 空的数据去掉(比如没有区域、卖家名信息的行) 创建副本(copy), 放到 stats_new 中\n",
    "stats_new = stats.dropna().copy()\n",
    "stats_new"
   ]
  },
  {
   "cell_type": "code",
   "execution_count": 10,
   "metadata": {
    "ExecuteTime": {
     "end_time": "2020-08-03T06:43:26.086449Z",
     "start_time": "2020-08-03T06:43:26.076933Z"
    }
   },
   "outputs": [
    {
     "data": {
      "text/plain": [
       "region         object\n",
       "country        object\n",
       "seller_name    object\n",
       "dtype: object"
      ]
     },
     "execution_count": 10,
     "metadata": {},
     "output_type": "execute_result"
    }
   ],
   "source": [
    "# 查看 stats_new 里各列的数据类型  \n",
    "stats_new.dtypes\n"
   ]
  },
  {
   "cell_type": "code",
   "execution_count": 15,
   "metadata": {
    "ExecuteTime": {
     "end_time": "2020-08-03T06:43:42.180206Z",
     "start_time": "2020-08-03T06:43:42.175941Z"
    }
   },
   "outputs": [
    {
     "data": {
      "text/plain": [
       "int"
      ]
     },
     "execution_count": 15,
     "metadata": {},
     "output_type": "execute_result"
    }
   ],
   "source": [
    "#查看 seller_name == \"John\" 这一行 country 的数据类型 (第3行，第2列）用 iloc\n",
    "stats_new.iloc[2,1]\n",
    "type(stats_new.iloc[2,1])"
   ]
  },
  {
   "cell_type": "code",
   "execution_count": 18,
   "metadata": {
    "ExecuteTime": {
     "end_time": "2020-08-03T06:43:52.397526Z",
     "start_time": "2020-08-03T06:43:52.393369Z"
    }
   },
   "outputs": [
    {
     "data": {
      "text/plain": [
       "str"
      ]
     },
     "execution_count": 18,
     "metadata": {},
     "output_type": "execute_result"
    }
   ],
   "source": [
    "#* 查看 seller_name == \"Tom\" 这一行 country 的数据类型 (第2行，第2列）用 iloc\n",
    "stats_new.iloc[1,1]\n",
    "type(stats_new.iloc[1,1])"
   ]
  },
  {
   "cell_type": "code",
   "execution_count": 23,
   "metadata": {
    "ExecuteTime": {
     "end_time": "2020-08-03T06:45:23.783996Z",
     "start_time": "2020-08-03T06:45:23.764025Z"
    }
   },
   "outputs": [
    {
     "data": {
      "text/plain": [
       "'0    NA\\n1    NA\\n2    NA\\n3    NA\\nName: region, dtype: object_0     US\\n1     US\\n2    404\\n3     CA\\nName: country, dtype: object_0      Bob\\n1      Tom\\n2     John\\n3    Hanks\\nName: seller_name, dtype: object'"
      ]
     },
     "execution_count": 23,
     "metadata": {},
     "output_type": "execute_result"
    }
   ],
   "source": [
    "#* 请尝试执行下面代码，看有什么问题\n",
    "# stats_new['region'] + \"_\" + stats_new['country'] + \"_\" + stats['seller_name']\n",
    "# TypeError: can only concatenate str (not \"int\") to str\n"
   ]
  },
  {
   "cell_type": "code",
   "execution_count": 27,
   "metadata": {
    "ExecuteTime": {
     "end_time": "2020-08-03T06:45:50.092979Z",
     "start_time": "2020-08-03T06:45:50.075098Z"
    }
   },
   "outputs": [
    {
     "data": {
      "text/html": [
       "<div>\n",
       "<style scoped>\n",
       "    .dataframe tbody tr th:only-of-type {\n",
       "        vertical-align: middle;\n",
       "    }\n",
       "\n",
       "    .dataframe tbody tr th {\n",
       "        vertical-align: top;\n",
       "    }\n",
       "\n",
       "    .dataframe thead th {\n",
       "        text-align: right;\n",
       "    }\n",
       "</style>\n",
       "<table border=\"1\" class=\"dataframe\">\n",
       "  <thead>\n",
       "    <tr style=\"text-align: right;\">\n",
       "      <th></th>\n",
       "      <th>region</th>\n",
       "      <th>country</th>\n",
       "      <th>seller_name</th>\n",
       "      <th>id</th>\n",
       "    </tr>\n",
       "  </thead>\n",
       "  <tbody>\n",
       "    <tr>\n",
       "      <th>0</th>\n",
       "      <td>NA</td>\n",
       "      <td>US</td>\n",
       "      <td>Bob</td>\n",
       "      <td>NA_US_Bob</td>\n",
       "    </tr>\n",
       "    <tr>\n",
       "      <th>1</th>\n",
       "      <td>NA</td>\n",
       "      <td>US</td>\n",
       "      <td>Tom</td>\n",
       "      <td>NA_US_Tom</td>\n",
       "    </tr>\n",
       "    <tr>\n",
       "      <th>2</th>\n",
       "      <td>NA</td>\n",
       "      <td>404</td>\n",
       "      <td>John</td>\n",
       "      <td>NA_404_John</td>\n",
       "    </tr>\n",
       "    <tr>\n",
       "      <th>3</th>\n",
       "      <td>NA</td>\n",
       "      <td>CA</td>\n",
       "      <td>Hanks</td>\n",
       "      <td>NA_CA_Hanks</td>\n",
       "    </tr>\n",
       "  </tbody>\n",
       "</table>\n",
       "</div>"
      ],
      "text/plain": [
       "  region country seller_name           id\n",
       "0     NA      US         Bob    NA_US_Bob\n",
       "1     NA      US         Tom    NA_US_Tom\n",
       "2     NA     404        John  NA_404_John\n",
       "3     NA      CA       Hanks  NA_CA_Hanks"
      ]
     },
     "execution_count": 27,
     "metadata": {},
     "output_type": "execute_result"
    }
   ],
   "source": [
    "# 请将 stats_new['country'] 列转成字符串，再将 region + country + seller_name 用下划线连接，放到 stats_new 中的一个新列名叫: unique_id\n",
    "unique_id = stats_new['region'] + \"_\" + stats_new['country'].astype(str) + \"_\" + stats_new['seller_name']\n",
    "stats_new['id'] = unique_id\n",
    "stats_new"
   ]
  },
  {
   "cell_type": "markdown",
   "metadata": {},
   "source": [
    "# 5. 怎么处理客户错填的销量信息\n",
    "---\n",
    "备注：这里综合了 p134面的内容\n",
    "\n",
    "做为一个数据分析师，从战术层面看，TA的最大工作就清洗数据；你一定要尽早把无效数据识别出来，标注出来！\n",
    "\n",
    "而且一定要要用系统认可的空值  NaN 标名；如果是程序员则会用 None(Python)/null(C) 来标明\n",
    "\n",
    "这里转换数类型时，使用了 pd.to_numeric 函数，[pd.to_numeric 详细的用法](https://blog.csdn.net/jinruoyanxu/article/details/79150896)\n",
    "\n",
    "---\n",
    "背景：\n",
    "\n",
    "* 你现在负责公司全球线下销售数据的收集，由经销商发邮件给你\n",
    "\n",
    "* 经销商发过来的销量数据千奇百怪，销量数据(quantity) 很不规范\n",
    "\n",
    "* 公司张总要你写个程序自动分析出是哪些经销商填写的不规范，好发邮件通报批评\n",
    "\n",
    "---\n",
    "* 读取 sales_data.csv（线下销售数据) 到 sales\n",
    "\n",
    "* 查看 sales 的数据类型\n",
    "\n",
    "  你可以看到，由于有经销商没有按规范填写，所以销量(quantity)字段并不是数字类型\n",
    "  \n",
    "* 使用 pd.to_numeric 将 sales 中的 quantity 字段转成数字，放到 temp_quantity\n",
    "\n",
    "  将转换成数字不成功的值转换成空值(NaN), 参数：errors=\"coerce\"\n",
    "  \n",
    "* 查看 temp_quantity 里哪些行的数据是空值 (isnull())\n",
    "\n",
    "* 利用 temp_quantity 从 sales 中提取未正常填写的数据，放到 report 中\n",
    "\n",
    "* 将 report 保存到 report.xlsx 文件中\n",
    "  \n"
   ]
  },
  {
   "cell_type": "code",
   "execution_count": 28,
   "metadata": {
    "ExecuteTime": {
     "end_time": "2020-08-03T06:51:28.722575Z",
     "start_time": "2020-08-03T06:51:28.704556Z"
    }
   },
   "outputs": [],
   "source": [
    "#读取 sales_data.csv（线下销售数据) 到 sales\n",
    "sales = pd.read_csv('sales_data.csv')\n"
   ]
  },
  {
   "cell_type": "code",
   "execution_count": 29,
   "metadata": {
    "ExecuteTime": {
     "end_time": "2020-08-03T06:51:58.010953Z",
     "start_time": "2020-08-03T06:51:58.002515Z"
    }
   },
   "outputs": [
    {
     "data": {
      "text/plain": [
       "seller_name    object\n",
       "sku            object\n",
       "quantity       object\n",
       "dtype: object"
      ]
     },
     "execution_count": 29,
     "metadata": {},
     "output_type": "execute_result"
    }
   ],
   "source": [
    "# 查看 sales 的数据类型\n",
    "#  你可以看到，由于有经销商没有按规范填写，所以销量(quantity)字段并不是数字类型\n",
    "\n",
    "sales.dtypes"
   ]
  },
  {
   "cell_type": "code",
   "execution_count": 31,
   "metadata": {
    "ExecuteTime": {
     "end_time": "2020-08-03T06:52:40.012905Z",
     "start_time": "2020-08-03T06:52:40.002939Z"
    }
   },
   "outputs": [
    {
     "data": {
      "text/plain": [
       "0    100.0\n",
       "1    200.0\n",
       "2    300.0\n",
       "3      NaN\n",
       "4    200.0\n",
       "5    100.0\n",
       "6      NaN\n",
       "Name: quantity, dtype: float64"
      ]
     },
     "execution_count": 31,
     "metadata": {},
     "output_type": "execute_result"
    }
   ],
   "source": [
    "#使用 pd.to_numeric 将 sales 中的 quantity 字段转成数字，放到 temp_quantity\n",
    "# 转换不成功的数字转换成空值(NaN), 参数：errors=\"coerce\"\n",
    "temp_quantity = pd.to_numeric(sales['quantity'],errors= 'coerce')\n",
    "temp_quantity"
   ]
  },
  {
   "cell_type": "code",
   "execution_count": 33,
   "metadata": {
    "ExecuteTime": {
     "end_time": "2020-08-03T06:53:03.129314Z",
     "start_time": "2020-08-03T06:53:03.121605Z"
    }
   },
   "outputs": [
    {
     "data": {
      "text/plain": [
       "0    False\n",
       "1    False\n",
       "2    False\n",
       "3     True\n",
       "4    False\n",
       "5    False\n",
       "6     True\n",
       "Name: quantity, dtype: bool"
      ]
     },
     "execution_count": 33,
     "metadata": {},
     "output_type": "execute_result"
    }
   ],
   "source": [
    "#* 查看 temp_quantity 里哪些行的数据是空值 (isnull())\n",
    "temp_quantity.isnull()"
   ]
  },
  {
   "cell_type": "code",
   "execution_count": 35,
   "metadata": {
    "ExecuteTime": {
     "end_time": "2020-08-03T06:53:20.552115Z",
     "start_time": "2020-08-03T06:53:20.540340Z"
    }
   },
   "outputs": [
    {
     "data": {
      "text/html": [
       "<div>\n",
       "<style scoped>\n",
       "    .dataframe tbody tr th:only-of-type {\n",
       "        vertical-align: middle;\n",
       "    }\n",
       "\n",
       "    .dataframe tbody tr th {\n",
       "        vertical-align: top;\n",
       "    }\n",
       "\n",
       "    .dataframe thead th {\n",
       "        text-align: right;\n",
       "    }\n",
       "</style>\n",
       "<table border=\"1\" class=\"dataframe\">\n",
       "  <thead>\n",
       "    <tr style=\"text-align: right;\">\n",
       "      <th></th>\n",
       "      <th>seller_name</th>\n",
       "      <th>sku</th>\n",
       "      <th>quantity</th>\n",
       "    </tr>\n",
       "  </thead>\n",
       "  <tbody>\n",
       "    <tr>\n",
       "      <th>3</th>\n",
       "      <td>Tom</td>\n",
       "      <td>A1237</td>\n",
       "      <td>missing</td>\n",
       "    </tr>\n",
       "    <tr>\n",
       "      <th>6</th>\n",
       "      <td>李老板</td>\n",
       "      <td>A1237</td>\n",
       "      <td>断货</td>\n",
       "    </tr>\n",
       "  </tbody>\n",
       "</table>\n",
       "</div>"
      ],
      "text/plain": [
       "  seller_name    sku quantity\n",
       "3         Tom  A1237  missing\n",
       "6         李老板  A1237       断货"
      ]
     },
     "execution_count": 35,
     "metadata": {},
     "output_type": "execute_result"
    }
   ],
   "source": [
    "#* 利用 temp_quantity 从 sales 中提取未正常填写的数据，放到 report 中\n",
    "#  使用temp_quantity.isnull() 从 sales 中过滤\n",
    "report = sales[temp_quantity.isnull()]\n",
    "report"
   ]
  },
  {
   "cell_type": "code",
   "execution_count": 36,
   "metadata": {
    "ExecuteTime": {
     "end_time": "2020-08-03T06:53:47.886269Z",
     "start_time": "2020-08-03T06:53:47.842124Z"
    }
   },
   "outputs": [],
   "source": [
    "#* 将 report 保存到 report.xlsx 文件中\n",
    "report.to_excel('report.xlsx')"
   ]
  },
  {
   "cell_type": "markdown",
   "metadata": {},
   "source": [
    "# 6. 参考资料\n",
    "* [dropna滤除缺失数据](https://blog.csdn.net/weixin_38168620/article/details/79596798)\n",
    "* [pd.read_csv/pd.read_excel 函数中 na_values 参数的意义和用法](https://blog.csdn.net/weixin_44520259/article/details/106053987)\n",
    "* [pd.to_numeric 详细的用法](https://blog.csdn.net/jinruoyanxu/article/details/79150896)"
   ]
  },
  {
   "cell_type": "code",
   "execution_count": null,
   "metadata": {},
   "outputs": [],
   "source": []
  }
 ],
 "metadata": {
  "kernelspec": {
   "display_name": "Python 3",
   "language": "python",
   "name": "python3"
  },
  "language_info": {
   "codemirror_mode": {
    "name": "ipython",
    "version": 3
   },
   "file_extension": ".py",
   "mimetype": "text/x-python",
   "name": "python",
   "nbconvert_exporter": "python",
   "pygments_lexer": "ipython3",
   "version": "3.8.3"
  },
  "toc": {
   "base_numbering": 1,
   "nav_menu": {},
   "number_sections": true,
   "sideBar": true,
   "skip_h1_title": false,
   "title_cell": "Table of Contents",
   "title_sidebar": "Contents",
   "toc_cell": false,
   "toc_position": {},
   "toc_section_display": true,
   "toc_window_display": false
  },
  "varInspector": {
   "cols": {
    "lenName": 16,
    "lenType": 16,
    "lenVar": 40
   },
   "kernels_config": {
    "python": {
     "delete_cmd_postfix": "",
     "delete_cmd_prefix": "del ",
     "library": "var_list.py",
     "varRefreshCmd": "print(var_dic_list())"
    },
    "r": {
     "delete_cmd_postfix": ") ",
     "delete_cmd_prefix": "rm(",
     "library": "var_list.r",
     "varRefreshCmd": "cat(var_dic_list()) "
    }
   },
   "types_to_exclude": [
    "module",
    "function",
    "builtin_function_or_method",
    "instance",
    "_Feature"
   ],
   "window_display": false
  }
 },
 "nbformat": 4,
 "nbformat_minor": 4
}
