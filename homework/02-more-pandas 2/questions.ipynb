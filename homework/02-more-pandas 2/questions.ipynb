{
 "cells": [
  {
   "cell_type": "markdown",
   "metadata": {},
   "source": [
    "# 1. 免学部分\n",
    "* p25，OrderedDict 相关部分免学\n",
    "* p28  表2-2 Series的一些方法，了解就可以\n",
    "* p35\n",
    "* p37~p38 到 “可以使用 datetime 重新计算真实年龄“为止。\n",
    "* p40~p44 只要学习2.6.2CSV, 2.6.3 Excel"
   ]
  },
  {
   "cell_type": "markdown",
   "metadata": {},
   "source": [
    "# 2. 前言\n",
    "\n",
    "* 大家在做题目前一定要先把第二章的书读一下\n",
    "* 写本作业，请使用 Anaconda 里的 Notebook\n",
    "* 我做了一个[打包下载 Link](https://downgit.github.io/#/home?url=https://github.com/liuhui998/pe2/tree/master/02-more-pandas), 大家下载下来解压后，使用 Notebook 打开"
   ]
  },
  {
   "cell_type": "markdown",
   "metadata": {
    "ExecuteTime": {
     "end_time": "2020-07-23T06:27:18.167672Z",
     "start_time": "2020-07-23T06:27:18.164694Z"
    }
   },
   "source": [
    "# 3. 学习概要\n",
    "* 我会在每道题有前标明对的书页码\n",
    "* 如果超纲我会提前提示，并加上资料 Link\n",
    "---\n",
    "知识点整理\n",
    "* pd.Series 表示在 pd 包里的 Series 类\n",
    "* pd.DataFrame 表示在 pd 包里的 DataFrame 类 [pandas.DataFrame()的参数解释](https://blog.csdn.net/u011495642/article/details/82875438)\n",
    "\n"
   ]
  },
  {
   "cell_type": "markdown",
   "metadata": {},
   "source": [
    "# 4. 手工创建 Series\n",
    "---\n",
    "备注：这里综合了 24~27面的内容\n",
    "\n",
    "* 创建一个 Series 对象 s\n",
    "* 数据为 \"China\",\"Hunan\",\"Peter\"\n",
    "* 索引为 \"Country\",\"Province\",\"Name\"\n",
    "* 用两种方法输出 s 里的数据（提示第二种方法可以用 for 循环）\n",
    "* 用两种方法输出 s 里的索引（提示第二种方法可以用 for 循环）"
   ]
  },
  {
   "cell_type": "code",
   "execution_count": 2,
   "metadata": {
    "ExecuteTime": {
     "end_time": "2020-07-23T08:32:36.062000Z",
     "start_time": "2020-07-23T08:32:35.398754Z"
    }
   },
   "outputs": [],
   "source": [
    "import pandas as pd\n",
    "import numpy as np\n"
   ]
  },
  {
   "cell_type": "code",
   "execution_count": 3,
   "metadata": {
    "ExecuteTime": {
     "end_time": "2020-07-23T08:32:36.075276Z",
     "start_time": "2020-07-23T08:32:36.064572Z"
    }
   },
   "outputs": [
    {
     "data": {
      "text/plain": [
       "Country     China\n",
       "Province    Hunan\n",
       "Name        Peter\n",
       "dtype: object"
      ]
     },
     "execution_count": 3,
     "metadata": {},
     "output_type": "execute_result"
    }
   ],
   "source": [
    "#创建一个 Series 对象 s\n",
    "#* 数据为 \"China\",\"Hunan\",\"Peter\"\n",
    "#* 索引为 \"Country\",\"Province\",\"Name\"\n",
    "\n",
    "ser = pd.Series(\n",
    "    [\"China\",\"Hunan\",\"Peter\"],\n",
    "    index = [\"Country\",\"Province\",\"Name\"]\n",
    ")\n",
    "ser"
   ]
  },
  {
   "cell_type": "code",
   "execution_count": 4,
   "metadata": {
    "ExecuteTime": {
     "end_time": "2020-07-23T08:32:36.081852Z",
     "start_time": "2020-07-23T08:32:36.077518Z"
    }
   },
   "outputs": [
    {
     "name": "stdout",
     "output_type": "stream",
     "text": [
      "China\n",
      "Hunan\n",
      "Peter\n"
     ]
    }
   ],
   "source": [
    "#用两种方法输出 s 里的数据（提示第二种方法可以用 for 循环）\n",
    "for item in ser.values:\n",
    "    print(item)\n",
    "    "
   ]
  },
  {
   "cell_type": "code",
   "execution_count": 5,
   "metadata": {
    "ExecuteTime": {
     "end_time": "2020-07-23T08:32:36.087967Z",
     "start_time": "2020-07-23T08:32:36.084094Z"
    }
   },
   "outputs": [
    {
     "name": "stdout",
     "output_type": "stream",
     "text": [
      "Country\n",
      "Province\n",
      "Name\n"
     ]
    }
   ],
   "source": [
    "#用两种方法输出 s 里的索引（提示第二种方法可以用 for 循环）\n",
    "for idx in ser.index:\n",
    "    print(idx)\n"
   ]
  },
  {
   "cell_type": "markdown",
   "metadata": {},
   "source": [
    "# 5. 手工创建 DataFrame\n",
    "---\n",
    "备注：这里综合了 25~27面的的内容\n",
    "\n",
    "[pandas.DataFrame()的参数解释](https://blog.csdn.net/u011495642/article/details/82875438)\n",
    "\n",
    "* 手工创建一个 DataFrame 对象 df\n",
    "* 索引是 [\"bu1\",\"bu2\",\"bu3\",\"bu4\"]\n",
    "* 第1列 列名是\"sales\"(销售额）,  数据为 [200,100,300,70]\n",
    "* 列2列 列名是\"profit\"(利润）, 数据为 [34,20,50,14]\n",
    "* 用 loc 属性从 df中找 \"bu1\" 这一行，存到名为 bu1 的变量中\n",
    "* 计算 bu1 的利润率 profit_ratio = (profit/sales),并且输出\n",
    "\n",
    "  提示：bu1 是Series 对象，可以直接 bu1['index_name'] 来访问数据\n",
    "  \n",
    "  例如: bu1['sales'], bu1['profit']"
   ]
  },
  {
   "cell_type": "code",
   "execution_count": 6,
   "metadata": {
    "ExecuteTime": {
     "end_time": "2020-07-23T08:32:36.100873Z",
     "start_time": "2020-07-23T08:32:36.090036Z"
    }
   },
   "outputs": [
    {
     "data": {
      "text/html": [
       "<div>\n",
       "<style scoped>\n",
       "    .dataframe tbody tr th:only-of-type {\n",
       "        vertical-align: middle;\n",
       "    }\n",
       "\n",
       "    .dataframe tbody tr th {\n",
       "        vertical-align: top;\n",
       "    }\n",
       "\n",
       "    .dataframe thead th {\n",
       "        text-align: right;\n",
       "    }\n",
       "</style>\n",
       "<table border=\"1\" class=\"dataframe\">\n",
       "  <thead>\n",
       "    <tr style=\"text-align: right;\">\n",
       "      <th></th>\n",
       "      <th>sales</th>\n",
       "      <th>profit</th>\n",
       "    </tr>\n",
       "  </thead>\n",
       "  <tbody>\n",
       "    <tr>\n",
       "      <th>bu1</th>\n",
       "      <td>200</td>\n",
       "      <td>34</td>\n",
       "    </tr>\n",
       "    <tr>\n",
       "      <th>bu2</th>\n",
       "      <td>100</td>\n",
       "      <td>20</td>\n",
       "    </tr>\n",
       "    <tr>\n",
       "      <th>bu3</th>\n",
       "      <td>300</td>\n",
       "      <td>50</td>\n",
       "    </tr>\n",
       "    <tr>\n",
       "      <th>bu4</th>\n",
       "      <td>70</td>\n",
       "      <td>14</td>\n",
       "    </tr>\n",
       "  </tbody>\n",
       "</table>\n",
       "</div>"
      ],
      "text/plain": [
       "     sales  profit\n",
       "bu1    200      34\n",
       "bu2    100      20\n",
       "bu3    300      50\n",
       "bu4     70      14"
      ]
     },
     "execution_count": 6,
     "metadata": {},
     "output_type": "execute_result"
    }
   ],
   "source": [
    "#手工创建一个 DataFrame 对象 df\n",
    "#索引是 [\"bu1\",\"bu2\",\"bu3\",\"bu4\"]\n",
    "#第1列 列名是\"sales\"(销售额）, 数据为 [200,100,300,70]\n",
    "#列2列 列名是\"profit\"(利润）, 数据为 [34,20,50,14]\n",
    "\n",
    "df = pd.DataFrame(\n",
    "    data = {\n",
    "       \"sales\" :  [200,100,300,70],\n",
    "        \"profit\" : [34,20,50,14]\n",
    "    },\n",
    "    index = [\"bu1\",\"bu2\",\"bu3\",\"bu4\"]\n",
    ")\n",
    "df"
   ]
  },
  {
   "cell_type": "code",
   "execution_count": 7,
   "metadata": {
    "ExecuteTime": {
     "end_time": "2020-07-23T08:32:36.109492Z",
     "start_time": "2020-07-23T08:32:36.104568Z"
    }
   },
   "outputs": [
    {
     "data": {
      "text/plain": [
       "sales     200\n",
       "profit     34\n",
       "Name: bu1, dtype: int64"
      ]
     },
     "execution_count": 7,
     "metadata": {},
     "output_type": "execute_result"
    }
   ],
   "source": [
    "# 用 loc 属性从 df中找 \"bu1\" 这一行，存到名为 bu1 的变量中\n",
    "bu1 = df.loc['bu1',:]\n",
    "bu1"
   ]
  },
  {
   "cell_type": "code",
   "execution_count": 8,
   "metadata": {
    "ExecuteTime": {
     "end_time": "2020-07-23T08:32:36.114597Z",
     "start_time": "2020-07-23T08:32:36.111965Z"
    }
   },
   "outputs": [
    {
     "data": {
      "text/plain": [
       "0.17"
      ]
     },
     "execution_count": 8,
     "metadata": {},
     "output_type": "execute_result"
    }
   ],
   "source": [
    "#计算 bu1 的利润率 profit_ratio = (profit/sales),并且输出\n",
    "\n",
    "pro_rat = bu1['profit'] / bu1['sales']\n",
    "pro_rat"
   ]
  },
  {
   "cell_type": "markdown",
   "metadata": {},
   "source": [
    "# 6. 数据过滤(Series)\n",
    "---\n",
    "备注：这里综合了第30面的的内容\n",
    "\n",
    "* 把 df 的 sales 列取出，放到变量 sales 中\n",
    "* 计算 sales 的平均值, 放到变量 mean_sales 中\n",
    "* 找出所有 sales 中所有大于 mean_sales 的数值"
   ]
  },
  {
   "cell_type": "code",
   "execution_count": 9,
   "metadata": {
    "ExecuteTime": {
     "end_time": "2020-07-23T08:32:36.120537Z",
     "start_time": "2020-07-23T08:32:36.116336Z"
    }
   },
   "outputs": [
    {
     "data": {
      "text/plain": [
       "bu1    200\n",
       "bu2    100\n",
       "bu3    300\n",
       "bu4     70\n",
       "Name: sales, dtype: int64"
      ]
     },
     "execution_count": 9,
     "metadata": {},
     "output_type": "execute_result"
    }
   ],
   "source": [
    "#把 df 的 sales 列取出，放到变量 sales 中\n",
    "\n",
    "sales = df['sales']\n",
    "sales"
   ]
  },
  {
   "cell_type": "code",
   "execution_count": 10,
   "metadata": {
    "ExecuteTime": {
     "end_time": "2020-07-23T08:32:36.125912Z",
     "start_time": "2020-07-23T08:32:36.122534Z"
    }
   },
   "outputs": [
    {
     "data": {
      "text/plain": [
       "167.5"
      ]
     },
     "execution_count": 10,
     "metadata": {},
     "output_type": "execute_result"
    }
   ],
   "source": [
    "#计算 sales 的平均值, 放到变量 mean_sales 中\n",
    "mean_sales = sales.mean()\n",
    "mean_sales"
   ]
  },
  {
   "cell_type": "code",
   "execution_count": 11,
   "metadata": {
    "ExecuteTime": {
     "end_time": "2020-07-23T08:32:36.131351Z",
     "start_time": "2020-07-23T08:32:36.127406Z"
    }
   },
   "outputs": [
    {
     "data": {
      "text/plain": [
       "bu1     True\n",
       "bu2    False\n",
       "bu3     True\n",
       "bu4    False\n",
       "Name: sales, dtype: bool"
      ]
     },
     "execution_count": 11,
     "metadata": {},
     "output_type": "execute_result"
    }
   ],
   "source": [
    "#找出所有 sales 中所有大于 mean_sales 的数值\n",
    "over_mean = sales[sales > mean_sales]\n",
    "over_mean\n",
    "result = sales > mean_sales\n",
    "result"
   ]
  },
  {
   "cell_type": "markdown",
   "metadata": {},
   "source": [
    "# 7. 增加新列\n",
    "---\n",
    "备注：这里综合了 31，36两面的的内容\n",
    "* 计算 df 中的利润率(profit_ratio = profit/sales), 存到 profit_ratio 中\n",
    "* 为 df 新加一列 \"profit_ratio\", 把 profit_ratio 放到里面\n"
   ]
  },
  {
   "cell_type": "code",
   "execution_count": 12,
   "metadata": {
    "ExecuteTime": {
     "end_time": "2020-07-23T08:32:36.149870Z",
     "start_time": "2020-07-23T08:32:36.138239Z"
    }
   },
   "outputs": [
    {
     "data": {
      "text/plain": [
       "bu1    0.170000\n",
       "bu2    0.200000\n",
       "bu3    0.166667\n",
       "bu4    0.200000\n",
       "dtype: float64"
      ]
     },
     "execution_count": 12,
     "metadata": {},
     "output_type": "execute_result"
    }
   ],
   "source": [
    "# 计算 df 中的利润率(profit_ratio = profit/sales), 存到 profit_ratio 中\n",
    "\n",
    "profit_ratio = df['profit'] / df['sales']\n",
    "profit_ratio"
   ]
  },
  {
   "cell_type": "code",
   "execution_count": 13,
   "metadata": {
    "ExecuteTime": {
     "end_time": "2020-07-23T08:32:36.187821Z",
     "start_time": "2020-07-23T08:32:36.151875Z"
    }
   },
   "outputs": [
    {
     "data": {
      "text/html": [
       "<div>\n",
       "<style scoped>\n",
       "    .dataframe tbody tr th:only-of-type {\n",
       "        vertical-align: middle;\n",
       "    }\n",
       "\n",
       "    .dataframe tbody tr th {\n",
       "        vertical-align: top;\n",
       "    }\n",
       "\n",
       "    .dataframe thead th {\n",
       "        text-align: right;\n",
       "    }\n",
       "</style>\n",
       "<table border=\"1\" class=\"dataframe\">\n",
       "  <thead>\n",
       "    <tr style=\"text-align: right;\">\n",
       "      <th></th>\n",
       "      <th>sales</th>\n",
       "      <th>profit</th>\n",
       "      <th>profit_ratio</th>\n",
       "    </tr>\n",
       "  </thead>\n",
       "  <tbody>\n",
       "    <tr>\n",
       "      <th>bu1</th>\n",
       "      <td>200</td>\n",
       "      <td>34</td>\n",
       "      <td>0.170000</td>\n",
       "    </tr>\n",
       "    <tr>\n",
       "      <th>bu2</th>\n",
       "      <td>100</td>\n",
       "      <td>20</td>\n",
       "      <td>0.200000</td>\n",
       "    </tr>\n",
       "    <tr>\n",
       "      <th>bu3</th>\n",
       "      <td>300</td>\n",
       "      <td>50</td>\n",
       "      <td>0.166667</td>\n",
       "    </tr>\n",
       "    <tr>\n",
       "      <th>bu4</th>\n",
       "      <td>70</td>\n",
       "      <td>14</td>\n",
       "      <td>0.200000</td>\n",
       "    </tr>\n",
       "  </tbody>\n",
       "</table>\n",
       "</div>"
      ],
      "text/plain": [
       "     sales  profit  profit_ratio\n",
       "bu1    200      34      0.170000\n",
       "bu2    100      20      0.200000\n",
       "bu3    300      50      0.166667\n",
       "bu4     70      14      0.200000"
      ]
     },
     "execution_count": 13,
     "metadata": {},
     "output_type": "execute_result"
    }
   ],
   "source": [
    "#为 df 新加一列 \"profit_ratio\", 把 profit_ratio 放到里\n",
    "df['profit_ratio'] = profit_ratio\n",
    "df"
   ]
  },
  {
   "cell_type": "markdown",
   "metadata": {},
   "source": [
    "# 8. 数据排序(DataFrame)\n",
    "---\n",
    "备注：这里综合了 33,43面的内容，有部分超纲，有不明白的这题可以直接抄答案\n",
    "\n",
    "我们发的 Pandas Cheat Sheet 有讲这一部分\n",
    "\n",
    "这里还有详细的外部参考资料：[pandas 数据排序.sort_index()和.sort_values()](https://www.jianshu.com/p/f0ed06cd5003)\n",
    "\n",
    "* 对 df 按 bu 名进行排序 （因为bu名放在索引里，可以使用 sort_index 方法)\n",
    "* 对 df 按 bu 名进行降序排序 (在用 sort_index里，可以加 ascending=False参数）\n",
    "* 对 df 按销售额(sales)进行排序 ( 可以使用 sort_values，提示增加 by 参数，指定列名即可)，\n",
    "```\n",
    "  df.sort_values(by='sales') #示例代码\n",
    "```\n",
    "  将结果写到 sort_sales.xlsx 文件\n",
    "  \n",
    "  \n",
    "* 对 df 按利润(profit)进行排序 ( 可以使用 sort_values)，将结果写到 sort_profit.xlsx 文件\n",
    "\n",
    "* 对 df 按利润率(profit_ratio)进行降序排序 ( 可以使用 sort_values)，将结果写到 sort_profit_ratio.xlsx 文件\n"
   ]
  },
  {
   "cell_type": "code",
   "execution_count": 14,
   "metadata": {
    "ExecuteTime": {
     "end_time": "2020-07-23T08:32:36.197344Z",
     "start_time": "2020-07-23T08:32:36.189793Z"
    }
   },
   "outputs": [
    {
     "data": {
      "text/html": [
       "<div>\n",
       "<style scoped>\n",
       "    .dataframe tbody tr th:only-of-type {\n",
       "        vertical-align: middle;\n",
       "    }\n",
       "\n",
       "    .dataframe tbody tr th {\n",
       "        vertical-align: top;\n",
       "    }\n",
       "\n",
       "    .dataframe thead th {\n",
       "        text-align: right;\n",
       "    }\n",
       "</style>\n",
       "<table border=\"1\" class=\"dataframe\">\n",
       "  <thead>\n",
       "    <tr style=\"text-align: right;\">\n",
       "      <th></th>\n",
       "      <th>sales</th>\n",
       "      <th>profit</th>\n",
       "      <th>profit_ratio</th>\n",
       "    </tr>\n",
       "  </thead>\n",
       "  <tbody>\n",
       "    <tr>\n",
       "      <th>bu1</th>\n",
       "      <td>200</td>\n",
       "      <td>34</td>\n",
       "      <td>0.170000</td>\n",
       "    </tr>\n",
       "    <tr>\n",
       "      <th>bu2</th>\n",
       "      <td>100</td>\n",
       "      <td>20</td>\n",
       "      <td>0.200000</td>\n",
       "    </tr>\n",
       "    <tr>\n",
       "      <th>bu3</th>\n",
       "      <td>300</td>\n",
       "      <td>50</td>\n",
       "      <td>0.166667</td>\n",
       "    </tr>\n",
       "    <tr>\n",
       "      <th>bu4</th>\n",
       "      <td>70</td>\n",
       "      <td>14</td>\n",
       "      <td>0.200000</td>\n",
       "    </tr>\n",
       "  </tbody>\n",
       "</table>\n",
       "</div>"
      ],
      "text/plain": [
       "     sales  profit  profit_ratio\n",
       "bu1    200      34      0.170000\n",
       "bu2    100      20      0.200000\n",
       "bu3    300      50      0.166667\n",
       "bu4     70      14      0.200000"
      ]
     },
     "execution_count": 14,
     "metadata": {},
     "output_type": "execute_result"
    }
   ],
   "source": [
    "#对 df 按 bu 名进行排序 （因为bu名放在索引里，可以使用 sort_index 方法)\n",
    "df.sort_index()"
   ]
  },
  {
   "cell_type": "code",
   "execution_count": 15,
   "metadata": {
    "ExecuteTime": {
     "end_time": "2020-07-23T08:32:36.205745Z",
     "start_time": "2020-07-23T08:32:36.198899Z"
    }
   },
   "outputs": [
    {
     "data": {
      "text/html": [
       "<div>\n",
       "<style scoped>\n",
       "    .dataframe tbody tr th:only-of-type {\n",
       "        vertical-align: middle;\n",
       "    }\n",
       "\n",
       "    .dataframe tbody tr th {\n",
       "        vertical-align: top;\n",
       "    }\n",
       "\n",
       "    .dataframe thead th {\n",
       "        text-align: right;\n",
       "    }\n",
       "</style>\n",
       "<table border=\"1\" class=\"dataframe\">\n",
       "  <thead>\n",
       "    <tr style=\"text-align: right;\">\n",
       "      <th></th>\n",
       "      <th>sales</th>\n",
       "      <th>profit</th>\n",
       "      <th>profit_ratio</th>\n",
       "    </tr>\n",
       "  </thead>\n",
       "  <tbody>\n",
       "    <tr>\n",
       "      <th>bu4</th>\n",
       "      <td>70</td>\n",
       "      <td>14</td>\n",
       "      <td>0.200000</td>\n",
       "    </tr>\n",
       "    <tr>\n",
       "      <th>bu3</th>\n",
       "      <td>300</td>\n",
       "      <td>50</td>\n",
       "      <td>0.166667</td>\n",
       "    </tr>\n",
       "    <tr>\n",
       "      <th>bu2</th>\n",
       "      <td>100</td>\n",
       "      <td>20</td>\n",
       "      <td>0.200000</td>\n",
       "    </tr>\n",
       "    <tr>\n",
       "      <th>bu1</th>\n",
       "      <td>200</td>\n",
       "      <td>34</td>\n",
       "      <td>0.170000</td>\n",
       "    </tr>\n",
       "  </tbody>\n",
       "</table>\n",
       "</div>"
      ],
      "text/plain": [
       "     sales  profit  profit_ratio\n",
       "bu4     70      14      0.200000\n",
       "bu3    300      50      0.166667\n",
       "bu2    100      20      0.200000\n",
       "bu1    200      34      0.170000"
      ]
     },
     "execution_count": 15,
     "metadata": {},
     "output_type": "execute_result"
    }
   ],
   "source": [
    "#对 df 按 bu 名进行降序排序 (在用 sort_index里，可以加 ascending=False参数）\n",
    "df.sort_index(ascending = False)"
   ]
  },
  {
   "cell_type": "code",
   "execution_count": 16,
   "metadata": {
    "ExecuteTime": {
     "end_time": "2020-07-23T08:32:59.830563Z",
     "start_time": "2020-07-23T08:32:59.812062Z"
    }
   },
   "outputs": [
    {
     "data": {
      "text/html": [
       "<div>\n",
       "<style scoped>\n",
       "    .dataframe tbody tr th:only-of-type {\n",
       "        vertical-align: middle;\n",
       "    }\n",
       "\n",
       "    .dataframe tbody tr th {\n",
       "        vertical-align: top;\n",
       "    }\n",
       "\n",
       "    .dataframe thead th {\n",
       "        text-align: right;\n",
       "    }\n",
       "</style>\n",
       "<table border=\"1\" class=\"dataframe\">\n",
       "  <thead>\n",
       "    <tr style=\"text-align: right;\">\n",
       "      <th></th>\n",
       "      <th>sales</th>\n",
       "      <th>profit</th>\n",
       "      <th>profit_ratio</th>\n",
       "    </tr>\n",
       "  </thead>\n",
       "  <tbody>\n",
       "    <tr>\n",
       "      <th>bu4</th>\n",
       "      <td>70</td>\n",
       "      <td>14</td>\n",
       "      <td>0.200000</td>\n",
       "    </tr>\n",
       "    <tr>\n",
       "      <th>bu2</th>\n",
       "      <td>100</td>\n",
       "      <td>20</td>\n",
       "      <td>0.200000</td>\n",
       "    </tr>\n",
       "    <tr>\n",
       "      <th>bu1</th>\n",
       "      <td>200</td>\n",
       "      <td>34</td>\n",
       "      <td>0.170000</td>\n",
       "    </tr>\n",
       "    <tr>\n",
       "      <th>bu3</th>\n",
       "      <td>300</td>\n",
       "      <td>50</td>\n",
       "      <td>0.166667</td>\n",
       "    </tr>\n",
       "  </tbody>\n",
       "</table>\n",
       "</div>"
      ],
      "text/plain": [
       "     sales  profit  profit_ratio\n",
       "bu4     70      14      0.200000\n",
       "bu2    100      20      0.200000\n",
       "bu1    200      34      0.170000\n",
       "bu3    300      50      0.166667"
      ]
     },
     "execution_count": 16,
     "metadata": {},
     "output_type": "execute_result"
    }
   ],
   "source": [
    "#对 df 按销售额(sales)进行排序 ( 可以使用 sort_values)， 将结果写到 sort_sales.xlsx 文件\n",
    "\n",
    "df.sort_values(by = 'sales')"
   ]
  },
  {
   "cell_type": "code",
   "execution_count": 17,
   "metadata": {
    "ExecuteTime": {
     "end_time": "2020-07-23T08:33:12.525146Z",
     "start_time": "2020-07-23T08:33:12.504924Z"
    }
   },
   "outputs": [
    {
     "data": {
      "text/html": [
       "<div>\n",
       "<style scoped>\n",
       "    .dataframe tbody tr th:only-of-type {\n",
       "        vertical-align: middle;\n",
       "    }\n",
       "\n",
       "    .dataframe tbody tr th {\n",
       "        vertical-align: top;\n",
       "    }\n",
       "\n",
       "    .dataframe thead th {\n",
       "        text-align: right;\n",
       "    }\n",
       "</style>\n",
       "<table border=\"1\" class=\"dataframe\">\n",
       "  <thead>\n",
       "    <tr style=\"text-align: right;\">\n",
       "      <th></th>\n",
       "      <th>sales</th>\n",
       "      <th>profit</th>\n",
       "      <th>profit_ratio</th>\n",
       "    </tr>\n",
       "  </thead>\n",
       "  <tbody>\n",
       "    <tr>\n",
       "      <th>bu4</th>\n",
       "      <td>70</td>\n",
       "      <td>14</td>\n",
       "      <td>0.200000</td>\n",
       "    </tr>\n",
       "    <tr>\n",
       "      <th>bu2</th>\n",
       "      <td>100</td>\n",
       "      <td>20</td>\n",
       "      <td>0.200000</td>\n",
       "    </tr>\n",
       "    <tr>\n",
       "      <th>bu1</th>\n",
       "      <td>200</td>\n",
       "      <td>34</td>\n",
       "      <td>0.170000</td>\n",
       "    </tr>\n",
       "    <tr>\n",
       "      <th>bu3</th>\n",
       "      <td>300</td>\n",
       "      <td>50</td>\n",
       "      <td>0.166667</td>\n",
       "    </tr>\n",
       "  </tbody>\n",
       "</table>\n",
       "</div>"
      ],
      "text/plain": [
       "     sales  profit  profit_ratio\n",
       "bu4     70      14      0.200000\n",
       "bu2    100      20      0.200000\n",
       "bu1    200      34      0.170000\n",
       "bu3    300      50      0.166667"
      ]
     },
     "execution_count": 17,
     "metadata": {},
     "output_type": "execute_result"
    }
   ],
   "source": [
    "# 对 df 按利润(profit)进行排序 ( 可以使用 sort_values)，将结果写到 sort_profit.xlsx 文件\n",
    "\n",
    "df.sort_values(by = 'profit')"
   ]
  },
  {
   "cell_type": "code",
   "execution_count": 18,
   "metadata": {
    "ExecuteTime": {
     "end_time": "2020-07-23T08:33:37.674995Z",
     "start_time": "2020-07-23T08:33:37.654013Z"
    }
   },
   "outputs": [],
   "source": [
    "#对 df 按利润率(profit_ratio)进行降序排序 ( 可以使用 sort_values)，将结果写到 sort_profit_ratio.xlsx 文件\n",
    "\n",
    "df_sorted = df.sort_values(by = 'profit_ratio',ascending = False)\n",
    "df_sorted.to_excel('profit_ratios_sorted.xlsx')\n"
   ]
  },
  {
   "cell_type": "markdown",
   "metadata": {},
   "source": [
    "# 9. 数据删除\n",
    "---\n",
    "备注：这里综合了 40，43面的的内容\n",
    "\n",
    "* 删除 df 里的 \"profit\",\"profit_ratio\" 两列, 存到 public_sales 中\n",
    "* 把 public_sales 保存为 public_sales.xlsx 文件\n"
   ]
  },
  {
   "cell_type": "code",
   "execution_count": 19,
   "metadata": {
    "ExecuteTime": {
     "end_time": "2020-07-23T08:39:12.090474Z",
     "start_time": "2020-07-23T08:39:12.086159Z"
    }
   },
   "outputs": [
    {
     "data": {
      "text/html": [
       "<div>\n",
       "<style scoped>\n",
       "    .dataframe tbody tr th:only-of-type {\n",
       "        vertical-align: middle;\n",
       "    }\n",
       "\n",
       "    .dataframe tbody tr th {\n",
       "        vertical-align: top;\n",
       "    }\n",
       "\n",
       "    .dataframe thead th {\n",
       "        text-align: right;\n",
       "    }\n",
       "</style>\n",
       "<table border=\"1\" class=\"dataframe\">\n",
       "  <thead>\n",
       "    <tr style=\"text-align: right;\">\n",
       "      <th></th>\n",
       "      <th>sales</th>\n",
       "    </tr>\n",
       "  </thead>\n",
       "  <tbody>\n",
       "    <tr>\n",
       "      <th>bu1</th>\n",
       "      <td>200</td>\n",
       "    </tr>\n",
       "    <tr>\n",
       "      <th>bu2</th>\n",
       "      <td>100</td>\n",
       "    </tr>\n",
       "    <tr>\n",
       "      <th>bu3</th>\n",
       "      <td>300</td>\n",
       "    </tr>\n",
       "    <tr>\n",
       "      <th>bu4</th>\n",
       "      <td>70</td>\n",
       "    </tr>\n",
       "  </tbody>\n",
       "</table>\n",
       "</div>"
      ],
      "text/plain": [
       "     sales\n",
       "bu1    200\n",
       "bu2    100\n",
       "bu3    300\n",
       "bu4     70"
      ]
     },
     "execution_count": 19,
     "metadata": {},
     "output_type": "execute_result"
    }
   ],
   "source": [
    "#删除 df 里的 \"profit\",\"profit_ratio\" 两列, 存到 public_sales 中\n",
    "public_sales = df.drop(['profit','profit_ratio'] , axis = 1)\n",
    "public_sales"
   ]
  },
  {
   "cell_type": "code",
   "execution_count": 20,
   "metadata": {
    "ExecuteTime": {
     "end_time": "2020-07-23T08:39:16.602680Z",
     "start_time": "2020-07-23T08:39:16.590391Z"
    }
   },
   "outputs": [],
   "source": [
    "# 把 public_sales 保存为 public_sales.xlsx 文件\n",
    "public_sales.to_excel('public_sales.xlsx')"
   ]
  },
  {
   "cell_type": "markdown",
   "metadata": {},
   "source": [
    "# 10. 数据过滤(DataFrame)\n",
    "---\n",
    "备注：这里综合了 34，43面的的内容\n",
    "\n",
    "同时有还会有如何在一个Excel文件写入多个Sheet的超纲内容，这一部分不会可以抄答案，我是想尽可能的模拟大家工作中场景！\n",
    "\n",
    "参考 Link: [DataFrame.to_excel多次写入不同Sheet](https://blog.csdn.net/wangxingfan316/article/details/79628463)\n",
    "\n",
    "* 把 df 的 sales 列取出，放到变量 sales 中\n",
    "* 计算 sales 的平均值, 放到变量 mean_sales 中\n",
    "* 找出 df 所有 sales 值大于 mean_sales的数据，放到 high_sales 中\n",
    "* 找出 df 所有 sales 值小于 mean_sales的数据，放到 high_sales 中\n",
    "* 把 high_sales,low_sales 分别写到 new_sales.xlsx 的 high_sales,low_sales 两个sheet 中"
   ]
  },
  {
   "cell_type": "code",
   "execution_count": 21,
   "metadata": {
    "ExecuteTime": {
     "end_time": "2020-07-23T08:32:36.384508Z",
     "start_time": "2020-07-23T08:32:36.377739Z"
    }
   },
   "outputs": [
    {
     "data": {
      "text/plain": [
       "167.5"
      ]
     },
     "execution_count": 21,
     "metadata": {},
     "output_type": "execute_result"
    }
   ],
   "source": [
    "# 把 df 的 sales 列取出，放到变量 sales 中\n",
    "# 计算 sales 的平均值, 放到变量 mean_sales 中\n",
    "\n",
    "sales = df['sales']\n",
    "mean_sales = sales.mean()\n",
    "mean_sales"
   ]
  },
  {
   "cell_type": "code",
   "execution_count": 22,
   "metadata": {
    "ExecuteTime": {
     "end_time": "2020-07-23T08:32:36.406520Z",
     "start_time": "2020-07-23T08:32:36.392629Z"
    }
   },
   "outputs": [
    {
     "data": {
      "text/plain": [
       "bu1    200\n",
       "bu3    300\n",
       "Name: sales, dtype: int64"
      ]
     },
     "execution_count": 22,
     "metadata": {},
     "output_type": "execute_result"
    }
   ],
   "source": [
    "#找出 df 所有 sales 值大于 mean_sales的数据，放到 high_sales 中\n",
    "high_sales = sales[sales > mean_sales]\n",
    "high_sales"
   ]
  },
  {
   "cell_type": "code",
   "execution_count": 23,
   "metadata": {
    "ExecuteTime": {
     "end_time": "2020-07-23T08:41:43.792787Z",
     "start_time": "2020-07-23T08:41:43.784628Z"
    }
   },
   "outputs": [
    {
     "data": {
      "text/plain": [
       "bu2    100\n",
       "bu4     70\n",
       "Name: sales, dtype: int64"
      ]
     },
     "execution_count": 23,
     "metadata": {},
     "output_type": "execute_result"
    }
   ],
   "source": [
    "#找出 df 所有 sales 值小于 mean_sales的数据，放到 high_sales 中\n",
    "\n",
    "low_sales = sales[sales < mean_sales]\n",
    "low_sales"
   ]
  },
  {
   "cell_type": "code",
   "execution_count": 24,
   "metadata": {
    "ExecuteTime": {
     "end_time": "2020-07-23T08:41:44.819785Z",
     "start_time": "2020-07-23T08:41:44.799686Z"
    }
   },
   "outputs": [],
   "source": [
    "# 把 high_sales,low_sales 分别写到 new_sales.xlsx 的 high_sales,low_sales 两个sheet 中\n",
    "writer = pd.ExcelWriter(\"new_sales.xlsx\")\n",
    "high_sales.to_excel(writer,'high_sales')\n",
    "low_sales.to_excel(writer,'low_sales')\n",
    "writer.save()\n"
   ]
  },
  {
   "cell_type": "code",
   "execution_count": 27,
   "metadata": {},
   "outputs": [
    {
     "data": {
      "text/html": [
       "<div>\n",
       "<style scoped>\n",
       "    .dataframe tbody tr th:only-of-type {\n",
       "        vertical-align: middle;\n",
       "    }\n",
       "\n",
       "    .dataframe tbody tr th {\n",
       "        vertical-align: top;\n",
       "    }\n",
       "\n",
       "    .dataframe thead th {\n",
       "        text-align: right;\n",
       "    }\n",
       "</style>\n",
       "<table border=\"1\" class=\"dataframe\">\n",
       "  <thead>\n",
       "    <tr style=\"text-align: right;\">\n",
       "      <th></th>\n",
       "      <th>sales</th>\n",
       "      <th>profit</th>\n",
       "      <th>profit_ratio</th>\n",
       "    </tr>\n",
       "  </thead>\n",
       "  <tbody>\n",
       "    <tr>\n",
       "      <th>bu1</th>\n",
       "      <td>200</td>\n",
       "      <td>34</td>\n",
       "      <td>0.170000</td>\n",
       "    </tr>\n",
       "    <tr>\n",
       "      <th>bu3</th>\n",
       "      <td>300</td>\n",
       "      <td>50</td>\n",
       "      <td>0.166667</td>\n",
       "    </tr>\n",
       "  </tbody>\n",
       "</table>\n",
       "</div>"
      ],
      "text/plain": [
       "     sales  profit  profit_ratio\n",
       "bu1    200      34      0.170000\n",
       "bu3    300      50      0.166667"
      ]
     },
     "execution_count": 27,
     "metadata": {},
     "output_type": "execute_result"
    }
   ],
   "source": [
    "df2 = df[(df.sales > 100) & (df.profit > 30)]\n",
    "df2"
   ]
  },
  {
   "cell_type": "code",
   "execution_count": 38,
   "metadata": {},
   "outputs": [
    {
     "data": {
      "text/html": [
       "<div>\n",
       "<style scoped>\n",
       "    .dataframe tbody tr th:only-of-type {\n",
       "        vertical-align: middle;\n",
       "    }\n",
       "\n",
       "    .dataframe tbody tr th {\n",
       "        vertical-align: top;\n",
       "    }\n",
       "\n",
       "    .dataframe thead th {\n",
       "        text-align: right;\n",
       "    }\n",
       "</style>\n",
       "<table border=\"1\" class=\"dataframe\">\n",
       "  <thead>\n",
       "    <tr style=\"text-align: right;\">\n",
       "      <th></th>\n",
       "      <th>sales_x</th>\n",
       "      <th>profit</th>\n",
       "      <th>profit_ratio_x</th>\n",
       "      <th>boo</th>\n",
       "      <th>sales_y</th>\n",
       "      <th>profit_ratio_y</th>\n",
       "      <th>new_pro</th>\n",
       "    </tr>\n",
       "  </thead>\n",
       "  <tbody>\n",
       "    <tr>\n",
       "      <th>bu1</th>\n",
       "      <td>200</td>\n",
       "      <td>34</td>\n",
       "      <td>0.170000</td>\n",
       "      <td>False</td>\n",
       "      <td>200</td>\n",
       "      <td>0.170000</td>\n",
       "      <td>34.0</td>\n",
       "    </tr>\n",
       "    <tr>\n",
       "      <th>bu2</th>\n",
       "      <td>300</td>\n",
       "      <td>50</td>\n",
       "      <td>0.166667</td>\n",
       "      <td>True</td>\n",
       "      <td>300</td>\n",
       "      <td>0.166667</td>\n",
       "      <td>50.0</td>\n",
       "    </tr>\n",
       "  </tbody>\n",
       "</table>\n",
       "</div>"
      ],
      "text/plain": [
       "     sales_x  profit  profit_ratio_x    boo  sales_y  profit_ratio_y  new_pro\n",
       "bu1      200      34        0.170000  False      200        0.170000     34.0\n",
       "bu2      300      50        0.166667   True      300        0.166667     50.0"
      ]
     },
     "execution_count": 38,
     "metadata": {},
     "output_type": "execute_result"
    }
   ],
   "source": [
    "df['boo'] = df.sales > 200\n",
    "df\n",
    "df3 = pd.merge(df,df2,on = 'profit')\n",
    "df3['new_pro'] = df3.profit_ratio_y * df3.sales_x\n",
    "df3.index = ['bu1','bu2']\n",
    "df3"
   ]
  },
  {
   "cell_type": "code",
   "execution_count": 40,
   "metadata": {},
   "outputs": [
    {
     "data": {
      "text/html": [
       "<div>\n",
       "<style scoped>\n",
       "    .dataframe tbody tr th:only-of-type {\n",
       "        vertical-align: middle;\n",
       "    }\n",
       "\n",
       "    .dataframe tbody tr th {\n",
       "        vertical-align: top;\n",
       "    }\n",
       "\n",
       "    .dataframe thead th {\n",
       "        text-align: right;\n",
       "    }\n",
       "</style>\n",
       "<table border=\"1\" class=\"dataframe\">\n",
       "  <thead>\n",
       "    <tr style=\"text-align: right;\">\n",
       "      <th></th>\n",
       "      <th>sales</th>\n",
       "      <th>profit</th>\n",
       "      <th>profit_ratio</th>\n",
       "      <th>boo</th>\n",
       "      <th>new_pro</th>\n",
       "    </tr>\n",
       "  </thead>\n",
       "  <tbody>\n",
       "    <tr>\n",
       "      <th>bu1</th>\n",
       "      <td>200</td>\n",
       "      <td>34</td>\n",
       "      <td>0.170000</td>\n",
       "      <td>False</td>\n",
       "      <td>34.0</td>\n",
       "    </tr>\n",
       "    <tr>\n",
       "      <th>bu2</th>\n",
       "      <td>100</td>\n",
       "      <td>20</td>\n",
       "      <td>0.200000</td>\n",
       "      <td>False</td>\n",
       "      <td>50.0</td>\n",
       "    </tr>\n",
       "    <tr>\n",
       "      <th>bu3</th>\n",
       "      <td>300</td>\n",
       "      <td>50</td>\n",
       "      <td>0.166667</td>\n",
       "      <td>True</td>\n",
       "      <td>NaN</td>\n",
       "    </tr>\n",
       "    <tr>\n",
       "      <th>bu4</th>\n",
       "      <td>70</td>\n",
       "      <td>14</td>\n",
       "      <td>0.200000</td>\n",
       "      <td>False</td>\n",
       "      <td>NaN</td>\n",
       "    </tr>\n",
       "  </tbody>\n",
       "</table>\n",
       "</div>"
      ],
      "text/plain": [
       "     sales  profit  profit_ratio    boo  new_pro\n",
       "bu1    200      34      0.170000  False     34.0\n",
       "bu2    100      20      0.200000  False     50.0\n",
       "bu3    300      50      0.166667   True      NaN\n",
       "bu4     70      14      0.200000  False      NaN"
      ]
     },
     "execution_count": 40,
     "metadata": {},
     "output_type": "execute_result"
    }
   ],
   "source": [
    "df4 = df.join(df3.new_pro)\n",
    "df4"
   ]
  },
  {
   "cell_type": "code",
   "execution_count": 41,
   "metadata": {},
   "outputs": [
    {
     "data": {
      "text/html": [
       "<div>\n",
       "<style scoped>\n",
       "    .dataframe tbody tr th:only-of-type {\n",
       "        vertical-align: middle;\n",
       "    }\n",
       "\n",
       "    .dataframe tbody tr th {\n",
       "        vertical-align: top;\n",
       "    }\n",
       "\n",
       "    .dataframe thead th {\n",
       "        text-align: right;\n",
       "    }\n",
       "</style>\n",
       "<table border=\"1\" class=\"dataframe\">\n",
       "  <thead>\n",
       "    <tr style=\"text-align: right;\">\n",
       "      <th></th>\n",
       "      <th></th>\n",
       "      <th>sales</th>\n",
       "    </tr>\n",
       "    <tr>\n",
       "      <th>boo</th>\n",
       "      <th>new_pro</th>\n",
       "      <th></th>\n",
       "    </tr>\n",
       "  </thead>\n",
       "  <tbody>\n",
       "    <tr>\n",
       "      <th rowspan=\"2\" valign=\"top\">False</th>\n",
       "      <th>34.0</th>\n",
       "      <td>200</td>\n",
       "    </tr>\n",
       "    <tr>\n",
       "      <th>50.0</th>\n",
       "      <td>100</td>\n",
       "    </tr>\n",
       "  </tbody>\n",
       "</table>\n",
       "</div>"
      ],
      "text/plain": [
       "               sales\n",
       "boo   new_pro       \n",
       "False 34.0       200\n",
       "      50.0       100"
      ]
     },
     "execution_count": 41,
     "metadata": {},
     "output_type": "execute_result"
    }
   ],
   "source": [
    "pivot_table = pd.pivot_table(\n",
    "    df4,\n",
    "    values = 'sales',\n",
    "    index = ['boo','new_pro'],\n",
    "    aggfunc = np.sum\n",
    ")\n",
    "pivot_table"
   ]
  },
  {
   "cell_type": "markdown",
   "metadata": {},
   "source": [
    "# 11. 日期转换\n",
    "--- \n",
    "备注: 这里综合了 36 面的内容\n",
    "\n",
    "大家如果不懂 format 里 %m %d %Y 的意义，可以看： [Python datetime 格式化字符串](https://blog.csdn.net/shomy_liu/article/details/44141483)\n",
    "\n",
    "业务背景，我们下载了最近的美国新冠日感染数据时行分析\n",
    "\n",
    "字段解释: day(日期), new_num(日新感染数), sma7(7天移动平均数）\n",
    "\n",
    "* 读取 us_daily.xlsx， 放到 us_daily 中\n",
    "* 将 day 转换成日期类型, 并覆盖原来的 day 字段\n"
   ]
  },
  {
   "cell_type": "code",
   "execution_count": null,
   "metadata": {
    "ExecuteTime": {
     "end_time": "2020-07-23T08:43:19.338718Z",
     "start_time": "2020-07-23T08:43:19.316938Z"
    }
   },
   "outputs": [],
   "source": [
    "#读取 us_daily.xlsx， 放到 us_daily 中\n",
    "us_daily = pd.read_excel('us_daily.xlsx')\n",
    "us_daily"
   ]
  },
  {
   "cell_type": "code",
   "execution_count": null,
   "metadata": {
    "ExecuteTime": {
     "end_time": "2020-07-23T08:43:20.408328Z",
     "start_time": "2020-07-23T08:43:20.403551Z"
    }
   },
   "outputs": [],
   "source": [
    "# 看一下原始数据是什么类型的\n",
    "us_daily.dtypes"
   ]
  },
  {
   "cell_type": "code",
   "execution_count": null,
   "metadata": {
    "ExecuteTime": {
     "end_time": "2020-07-23T08:44:29.339763Z",
     "start_time": "2020-07-23T08:44:29.325165Z"
    }
   },
   "outputs": [],
   "source": [
    "# 将 day 转换成日期类型, 并覆盖原来的 day 字段\n",
    "# 书上面是用 - 分隔，这份数据是用 / 分隔，所以这里用 /\n",
    "day = pd.to_datetime(us_daily['day'],format = '%m/%d/%Y')\n",
    "us_daily['day']  = day\n",
    "us_daily.dtypes"
   ]
  },
  {
   "cell_type": "markdown",
   "metadata": {},
   "source": [
    "# 12. 可视化初步（无题目）\n",
    "---\n",
    "今天早上有同学说想学可视化，所以我决定今天多超几次纲，反正还有周末，大家看看就好！\n",
    "\n",
    "[Plotly 图表简介](https://plotly.com/python/)\n",
    "\n",
    "[Plotly和Pandas配合简介（英文）](https://plotly.com/python/pandas-backend/)"
   ]
  },
  {
   "cell_type": "markdown",
   "metadata": {},
   "source": [
    "* 首先我们安装 plotly  kaleido cufflinks 这三个包（只用安装一次就好）\n",
    "* 你安装成功后就可以在 !pip 前加一个 #, 这样下次就不用重复安装"
   ]
  },
  {
   "cell_type": "code",
   "execution_count": null,
   "metadata": {
    "ExecuteTime": {
     "end_time": "2020-07-23T08:57:01.168647Z",
     "start_time": "2020-07-23T08:57:01.166402Z"
    }
   },
   "outputs": [],
   "source": [
    "# !pip install -U plotly  kaleido cufflinks\n"
   ]
  },
  {
   "cell_type": "markdown",
   "metadata": {},
   "source": [
    "* pandas 以前默认只支持 matplotlib 用来画图\n",
    "* 后面提供了新机制支持不同的画图工具，我们修改 pd.options.plotting.backend 的值，来使用 plotly 来画图\n",
    "* 因为疫情数据和时间相关，是时间序列，我们在这里把 day列 转成索引(index)\n",
    "* 最后直接在 new_us_daily 上调用 plot() 就把图画出来了"
   ]
  },
  {
   "cell_type": "code",
   "execution_count": null,
   "metadata": {
    "ExecuteTime": {
     "end_time": "2020-07-23T08:57:30.774858Z",
     "start_time": "2020-07-23T08:57:30.771627Z"
    }
   },
   "outputs": [],
   "source": [
    "pd.options.plotting.backend = \"plotly\""
   ]
  },
  {
   "cell_type": "code",
   "execution_count": null,
   "metadata": {
    "ExecuteTime": {
     "end_time": "2020-07-23T08:57:51.403922Z",
     "start_time": "2020-07-23T08:57:51.394540Z"
    }
   },
   "outputs": [],
   "source": [
    "new_us_daily = us_daily.set_index(\"day\")\n",
    "new_us_daily.head()"
   ]
  },
  {
   "cell_type": "code",
   "execution_count": null,
   "metadata": {
    "ExecuteTime": {
     "end_time": "2020-07-23T08:58:09.501657Z",
     "start_time": "2020-07-23T08:58:09.424135Z"
    }
   },
   "outputs": [],
   "source": [
    "\n",
    "fig = new_us_daily.plot()\n",
    "fig.show() \n"
   ]
  },
  {
   "cell_type": "markdown",
   "metadata": {},
   "source": [
    "* 在 show 中增加了格式参数，这样在 github 中也可以看到图片"
   ]
  },
  {
   "cell_type": "code",
   "execution_count": null,
   "metadata": {
    "ExecuteTime": {
     "end_time": "2020-07-23T08:59:02.203228Z",
     "start_time": "2020-07-23T08:59:02.121612Z"
    }
   },
   "outputs": [],
   "source": [
    "fig.show('png')\n"
   ]
  },
  {
   "cell_type": "markdown",
   "metadata": {},
   "source": [
    "* 把图表导出成图片"
   ]
  },
  {
   "cell_type": "code",
   "execution_count": null,
   "metadata": {
    "ExecuteTime": {
     "end_time": "2020-07-23T08:59:14.390634Z",
     "start_time": "2020-07-23T08:59:14.325299Z"
    }
   },
   "outputs": [],
   "source": [
    "fig.write_image(\"us_daily.png\")\n"
   ]
  },
  {
   "cell_type": "markdown",
   "metadata": {},
   "source": [
    "* 把图表导出成网页"
   ]
  },
  {
   "cell_type": "code",
   "execution_count": null,
   "metadata": {
    "ExecuteTime": {
     "end_time": "2020-07-23T08:59:22.570963Z",
     "start_time": "2020-07-23T08:59:22.546029Z"
    }
   },
   "outputs": [],
   "source": [
    "fig.write_html(\"us_daily.html\")\n"
   ]
  },
  {
   "cell_type": "markdown",
   "metadata": {
    "ExecuteTime": {
     "end_time": "2020-07-23T06:11:41.406994Z",
     "start_time": "2020-07-23T06:11:41.403009Z"
    }
   },
   "source": [
    "# 附录. 学习资料Link\n",
    "\n",
    "* [pandas.DataFrame()的参数解释](https://blog.csdn.net/u011495642/article/details/82875438)\n",
    "* [pandas 数据排序.sort_index()和.sort_values()](https://www.jianshu.com/p/f0ed06cd5003)\n",
    "* [DataFrame.to_excel多次写入不同Sheet](https://blog.csdn.net/wangxingfan316/article/details/79628463)\n",
    "* [Python datetime 格式化字符串](https://blog.csdn.net/shomy_liu/article/details/44141483)\n",
    "---\n",
    "* [Plotly 图表简介](https://plotly.com/python/)\n",
    "* [Plotly和Pandas配合简介（英文）](https://plotly.com/python/pandas-backend/)\n"
   ]
  }
 ],
 "metadata": {
  "kernelspec": {
   "display_name": "Python 3",
   "language": "python",
   "name": "python3"
  },
  "language_info": {
   "codemirror_mode": {
    "name": "ipython",
    "version": 3
   },
   "file_extension": ".py",
   "mimetype": "text/x-python",
   "name": "python",
   "nbconvert_exporter": "python",
   "pygments_lexer": "ipython3",
   "version": "3.8.3"
  },
  "toc": {
   "base_numbering": 1,
   "nav_menu": {},
   "number_sections": true,
   "sideBar": true,
   "skip_h1_title": false,
   "title_cell": "Table of Contents",
   "title_sidebar": "Contents",
   "toc_cell": false,
   "toc_position": {},
   "toc_section_display": true,
   "toc_window_display": false
  },
  "varInspector": {
   "cols": {
    "lenName": 16,
    "lenType": 16,
    "lenVar": 40
   },
   "kernels_config": {
    "python": {
     "delete_cmd_postfix": "",
     "delete_cmd_prefix": "del ",
     "library": "var_list.py",
     "varRefreshCmd": "print(var_dic_list())"
    },
    "r": {
     "delete_cmd_postfix": ") ",
     "delete_cmd_prefix": "rm(",
     "library": "var_list.r",
     "varRefreshCmd": "cat(var_dic_list()) "
    }
   },
   "types_to_exclude": [
    "module",
    "function",
    "builtin_function_or_method",
    "instance",
    "_Feature"
   ],
   "window_display": false
  }
 },
 "nbformat": 4,
 "nbformat_minor": 4
}
