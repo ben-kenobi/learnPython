{
 "cells": [
  {
   "cell_type": "markdown",
   "metadata": {},
   "source": [
    "### 将字符串表格转换成IOS app开发中使用的.strings文件\n",
    "\n",
    "步骤如下：\n",
    "    * 读取xls表格所有sheet中数据\n",
    "    * 合并所有sheet为一个数据帧\n",
    "    * 移除不需要的列和id为空的行\n",
    "    * 根据语言列拆分成不同子表\n",
    "    * 遍历所有子表\n",
    "        * 创建文件夹\n",
    "        * 将表格内容按照id=value格式转换成字符串\n",
    "        * 将字符串写到本地.strings文件"
   ]
  },
  {
   "cell_type": "code",
   "execution_count": 66,
   "metadata": {},
   "outputs": [
    {
     "name": "stdout",
     "output_type": "stream",
     "text": [
      "Index(['IOS', ' Android', 'EN', 'CN', 'ES', 'FR', 'DE', 'IT', 'NL', 'AR', 'JP',\n",
      "       'KR', 'VN'],\n",
      "      dtype='object')\n"
     ]
    },
    {
     "data": {
      "text/plain": [
       "(2856, 13)"
      ]
     },
     "execution_count": 66,
     "metadata": {},
     "output_type": "execute_result"
    }
   ],
   "source": [
    "import pandas as pd\n",
    "\n",
    "eufy_security_file = pd.ExcelFile('Eufy Security 翻译-190214.xlsx')\n",
    "\n",
    "df_list = []\n",
    "\n",
    "# 打印sheet名，复制需要的sheet名\n",
    "# print(eufy_security_file.sheet_names)\n",
    "\n",
    "need_sheets = ['Common', 'homekit_ios', 'Floodlight', \n",
    "               'Alarm_System', 'solo_camera','Geofencing', \n",
    "               'repeater', 'Devices', 'Events', 'DeviceSetting', \n",
    "               'Mode', 'Sdcard_Upgrade', 'DrawerSettings', \n",
    "               'App_Special', 'Player', 'SmartDetection', 'Account']\n",
    "\n",
    "# 获取第一张sheet列名，保持所有表列名的统一\n",
    "unify_col = eufy_security_file.parse('Common').columns\n",
    "col_len = len(unify_col)\n",
    "\n",
    "for sheet_name in need_sheets:\n",
    "    sheet_df = eufy_security_file.parse(sheet_name)\n",
    "    this_col_len = len(sheet_df.columns)\n",
    "    sheet_df.columns = unify_col[0:min(col_len,this_col_len)]  # 统一列名方便合并,列数量不足的表，缺失列当作空处理\n",
    "    df_list.append(sheet_df)\n",
    "full_df = pd.concat(df_list)\n",
    "\n",
    "print(full_df.columns)\n",
    "full_df.shape\n",
    "\n",
    "\n",
    "\n"
   ]
  },
  {
   "cell_type": "code",
   "execution_count": 67,
   "metadata": {},
   "outputs": [
    {
     "data": {
      "text/plain": [
       "(2856, 11)"
      ]
     },
     "execution_count": 67,
     "metadata": {},
     "output_type": "execute_result"
    }
   ],
   "source": [
    "# 仅保留需要的列\n",
    "need_col = ['IOS', 'EN',  'ES', 'FR', 'DE', 'IT', 'NL', 'AR', 'JP',\n",
    "       'KR', 'VN']\n",
    "use_df = full_df[need_col]\n",
    "\n",
    "use_df.shape"
   ]
  },
  {
   "cell_type": "code",
   "execution_count": 68,
   "metadata": {},
   "outputs": [
    {
     "data": {
      "text/plain": [
       "(1586, 11)"
      ]
     },
     "execution_count": 68,
     "metadata": {},
     "output_type": "execute_result"
    }
   ],
   "source": [
    "# 移除iOS 列值为空的行\n",
    "use_df = use_df[use_df.IOS.notnull()]\n",
    "\n",
    "use_df.shape"
   ]
  },
  {
   "cell_type": "code",
   "execution_count": 69,
   "metadata": {},
   "outputs": [],
   "source": [
    "# 填充空值为空字符\n",
    "\n",
    "use_df = use_df.fillna('')"
   ]
  },
  {
   "cell_type": "code",
   "execution_count": 70,
   "metadata": {},
   "outputs": [],
   "source": [
    "# 保存\n",
    "use_df.to_excel('EufySecurity_IOS.xlsx')"
   ]
  },
  {
   "cell_type": "code",
   "execution_count": 71,
   "metadata": {},
   "outputs": [
    {
     "data": {
      "text/plain": [
       "10"
      ]
     },
     "execution_count": 71,
     "metadata": {},
     "output_type": "execute_result"
    }
   ],
   "source": [
    "# 按照语言拆分成子表格\n",
    "import os\n",
    "\n",
    "def mkdir_if_needed(path):\n",
    "    if not os.path.exists(path):\n",
    "        os.makedirs(path)\n",
    "    return os.path.abspath(path)\n",
    "    \n",
    "# 创建目录存放子表\n",
    "mkdir_if_needed('./子表/')\n",
    "\n",
    "all_sub_df = []\n",
    "for lan in need_col[1:]:\n",
    "    sub_df = use_df[['IOS',lan]]\n",
    "    sub_df.to_excel(f'子表/{lan}.xlsx')\n",
    "    all_sub_df.append(sub_df)\n",
    "len(all_sub_df)"
   ]
  },
  {
   "cell_type": "code",
   "execution_count": 72,
   "metadata": {},
   "outputs": [],
   "source": [
    "\n",
    "\n",
    "# 创建目录存放生成字符串\n",
    "dest_path = mkdir_if_needed('./目标字符串/')"
   ]
  },
  {
   "cell_type": "code",
   "execution_count": 73,
   "metadata": {},
   "outputs": [],
   "source": [
    "# 将字符串转换成IOS合法字符串\n",
    "\n",
    "def to_valid_ios_str(istr):\n",
    "    new_str = '' + str(istr)\n",
    "    new_str = new_str.replace('\"','\\\\\"')\n",
    "    new_str = new_str.replace('\\\\\\\\\"','\\\\\"')\n",
    "    new_str = new_str.replace('%s','%@')\n",
    "    return new_str\n"
   ]
  },
  {
   "cell_type": "code",
   "execution_count": 74,
   "metadata": {},
   "outputs": [],
   "source": [
    "# 当前文件夹下生成字符串\n",
    "\n",
    "def convert_to_Strings(df):\n",
    "    lan = df.columns[1]  #创建语言目录\n",
    "    dest_dir = mkdir_if_needed(f'{dest_path}/{lan}/')\n",
    "    with open(f'{dest_dir}/Localizable.strings', 'w') as f:\n",
    "        for idx,tup in df.iterrows():\n",
    "            key = tup[0]\n",
    "            val = to_valid_ios_str(tup[1])\n",
    "            f.write(f'\"{key}\" = \"{val}\";\\r\\n')"
   ]
  },
  {
   "cell_type": "code",
   "execution_count": 75,
   "metadata": {},
   "outputs": [],
   "source": [
    "# 遍历子表拼接成字串\n",
    "\n",
    "for df in all_sub_df:\n",
    "    convert_to_Strings(df)\n",
    "\n",
    "    "
   ]
  }
 ],
 "metadata": {
  "kernelspec": {
   "display_name": "Python 3",
   "language": "python",
   "name": "python3"
  },
  "language_info": {
   "codemirror_mode": {
    "name": "ipython",
    "version": 3
   },
   "file_extension": ".py",
   "mimetype": "text/x-python",
   "name": "python",
   "nbconvert_exporter": "python",
   "pygments_lexer": "ipython3",
   "version": "3.8.3"
  },
  "toc": {
   "base_numbering": 1,
   "nav_menu": {},
   "number_sections": true,
   "sideBar": true,
   "skip_h1_title": false,
   "title_cell": "Table of Contents",
   "title_sidebar": "Contents",
   "toc_cell": false,
   "toc_position": {},
   "toc_section_display": true,
   "toc_window_display": false
  },
  "varInspector": {
   "cols": {
    "lenName": 16,
    "lenType": 16,
    "lenVar": 40
   },
   "kernels_config": {
    "python": {
     "delete_cmd_postfix": "",
     "delete_cmd_prefix": "del ",
     "library": "var_list.py",
     "varRefreshCmd": "print(var_dic_list())"
    },
    "r": {
     "delete_cmd_postfix": ") ",
     "delete_cmd_prefix": "rm(",
     "library": "var_list.r",
     "varRefreshCmd": "cat(var_dic_list()) "
    }
   },
   "types_to_exclude": [
    "module",
    "function",
    "builtin_function_or_method",
    "instance",
    "_Feature"
   ],
   "window_display": false
  }
 },
 "nbformat": 4,
 "nbformat_minor": 4
}
