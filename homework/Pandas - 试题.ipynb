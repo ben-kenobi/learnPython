{
 "cells": [
  {
   "cell_type": "markdown",
   "metadata": {
    "colab_type": "text",
    "id": "Jqok4DVS8X8S"
   },
   "source": [
    "# 说明\n",
    "##请点击“文件”下在云端硬盘保留副本，以自己名字命名，并共享给自己的老师，Ruby.Shi、Peter.Liu\n",
    "##不仅需要答题，还需执行输出结果"
   ]
  },
  {
   "cell_type": "markdown",
   "metadata": {
    "colab_type": "text",
    "id": "gUEUwKWeNUxD"
   },
   "source": [
    "# 数据准备"
   ]
  },
  {
   "cell_type": "code",
   "execution_count": 8,
   "metadata": {
    "colab": {
     "base_uri": "https://localhost:8080/",
     "height": 204
    },
    "colab_type": "code",
    "executionInfo": {
     "elapsed": 1193,
     "status": "ok",
     "timestamp": 1587711276934,
     "user": {
      "displayName": "Wesley Qu",
      "photoUrl": "",
      "userId": "05908558619546406726"
     },
     "user_tz": -480
    },
    "id": "5Yi1ItO391W5",
    "outputId": "b8ab9a77-7444-42d0-905b-2e5459d93a8c"
   },
   "outputs": [
    {
     "data": {
      "text/html": [
       "<div>\n",
       "<style scoped>\n",
       "    .dataframe tbody tr th:only-of-type {\n",
       "        vertical-align: middle;\n",
       "    }\n",
       "\n",
       "    .dataframe tbody tr th {\n",
       "        vertical-align: top;\n",
       "    }\n",
       "\n",
       "    .dataframe thead th {\n",
       "        text-align: right;\n",
       "    }\n",
       "</style>\n",
       "<table border=\"1\" class=\"dataframe\">\n",
       "  <thead>\n",
       "    <tr style=\"text-align: right;\">\n",
       "      <th></th>\n",
       "      <th>total_bill</th>\n",
       "      <th>tip</th>\n",
       "      <th>sex</th>\n",
       "      <th>smoker</th>\n",
       "      <th>day</th>\n",
       "      <th>time</th>\n",
       "      <th>size</th>\n",
       "    </tr>\n",
       "  </thead>\n",
       "  <tbody>\n",
       "    <tr>\n",
       "      <th>0</th>\n",
       "      <td>16.99</td>\n",
       "      <td>1.01</td>\n",
       "      <td>Female</td>\n",
       "      <td>No</td>\n",
       "      <td>Sun</td>\n",
       "      <td>Dinner</td>\n",
       "      <td>2</td>\n",
       "    </tr>\n",
       "    <tr>\n",
       "      <th>1</th>\n",
       "      <td>10.34</td>\n",
       "      <td>1.66</td>\n",
       "      <td>Male</td>\n",
       "      <td>No</td>\n",
       "      <td>Sun</td>\n",
       "      <td>Dinner</td>\n",
       "      <td>3</td>\n",
       "    </tr>\n",
       "    <tr>\n",
       "      <th>2</th>\n",
       "      <td>21.01</td>\n",
       "      <td>3.50</td>\n",
       "      <td>Male</td>\n",
       "      <td>No</td>\n",
       "      <td>Sun</td>\n",
       "      <td>Dinner</td>\n",
       "      <td>3</td>\n",
       "    </tr>\n",
       "    <tr>\n",
       "      <th>3</th>\n",
       "      <td>23.68</td>\n",
       "      <td>3.31</td>\n",
       "      <td>Male</td>\n",
       "      <td>No</td>\n",
       "      <td>Sun</td>\n",
       "      <td>Dinner</td>\n",
       "      <td>2</td>\n",
       "    </tr>\n",
       "    <tr>\n",
       "      <th>4</th>\n",
       "      <td>24.59</td>\n",
       "      <td>3.61</td>\n",
       "      <td>Female</td>\n",
       "      <td>No</td>\n",
       "      <td>Sun</td>\n",
       "      <td>Dinner</td>\n",
       "      <td>4</td>\n",
       "    </tr>\n",
       "  </tbody>\n",
       "</table>\n",
       "</div>"
      ],
      "text/plain": [
       "   total_bill   tip     sex smoker  day    time  size\n",
       "0       16.99  1.01  Female     No  Sun  Dinner     2\n",
       "1       10.34  1.66    Male     No  Sun  Dinner     3\n",
       "2       21.01  3.50    Male     No  Sun  Dinner     3\n",
       "3       23.68  3.31    Male     No  Sun  Dinner     2\n",
       "4       24.59  3.61  Female     No  Sun  Dinner     4"
      ]
     },
     "execution_count": 8,
     "metadata": {},
     "output_type": "execute_result"
    }
   ],
   "source": [
    "import pandas as pd\n",
    "import seaborn as sns\n",
    "\n",
    "tips = sns.load_dataset('tips')\n",
    "tips.head()"
   ]
  },
  {
   "cell_type": "markdown",
   "metadata": {
    "colab_type": "text",
    "id": "n6lF19u8NOq3"
   },
   "source": [
    "# 第1题 查看dataframe基本信息"
   ]
  },
  {
   "cell_type": "code",
   "execution_count": 9,
   "metadata": {},
   "outputs": [],
   "source": [
    "seperator = '\\n' + ('*' * 20) + '\\n'\n",
    "def printSeperator():\n",
    "  print(seperator) "
   ]
  },
  {
   "cell_type": "code",
   "execution_count": 10,
   "metadata": {
    "colab": {},
    "colab_type": "code",
    "id": "FG131NZcD2bh"
   },
   "outputs": [
    {
     "name": "stdout",
     "output_type": "stream",
     "text": [
      "行列数：(244, 7)\n",
      "\n",
      "********************\n",
      "\n",
      "数据类型\n",
      "total_bill     float64\n",
      "tip            float64\n",
      "sex           category\n",
      "smoker        category\n",
      "day           category\n",
      "time          category\n",
      "size             int64\n",
      "dtype: object\n",
      "\n",
      "\n",
      "********************\n",
      "\n",
      "索引\n",
      "RangeIndex(start=0, stop=244, step=1)\n",
      "\n",
      "********************\n",
      "\n",
      "列名\n",
      "Index(['total_bill', 'tip', 'sex', 'smoker', 'day', 'time', 'size'], dtype='object')\n"
     ]
    }
   ],
   "source": [
    "# 打印tips行、列数\n",
    "# 打印tips各列的数据类型\n",
    "# 打印tips的索引\n",
    "# 打印tips包含的列名\n",
    "print(f'行列数：{tips.shape}')\n",
    "printSeperator()\n",
    "print(f\"数据类型\\n{tips.dtypes}\\n\")\n",
    "printSeperator()\n",
    "print(f\"索引\\n{tips.index}\")\n",
    "printSeperator()\n",
    "print(f\"列名\\n{tips.columns}\")\n"
   ]
  },
  {
   "cell_type": "markdown",
   "metadata": {
    "colab_type": "text",
    "id": "VncsiO3MZMcP"
   },
   "source": [
    "# 第2题 列操作"
   ]
  },
  {
   "cell_type": "code",
   "execution_count": 17,
   "metadata": {
    "colab": {},
    "colab_type": "code",
    "id": "AH4-b22CZMtp"
   },
   "outputs": [
    {
     "name": "stdout",
     "output_type": "stream",
     "text": [
      "day列去重：['Sun', 'Sat', 'Thur', 'Fri']\n",
      "\n",
      "********************\n",
      "\n",
      "不同性别人数:\n",
      "sex\n",
      "MALE      157\n",
      "FEMALE     87\n",
      "Name: tip, dtype: int64\n",
      "\n",
      "********************\n",
      "\n",
      "性别转大写：\n",
      "   total_bill   tip     sex smoker  day    time  size\n",
      "0       16.99  1.01  FEMALE     No  Sun  Dinner     2\n",
      "1       10.34  1.66    MALE     No  Sun  Dinner     3\n",
      "2       21.01  3.50    MALE     No  Sun  Dinner     3\n",
      "3       23.68  3.31    MALE     No  Sun  Dinner     2\n",
      "4       24.59  3.61  FEMALE     No  Sun  Dinner     4\n"
     ]
    }
   ],
   "source": [
    "# 查看day列去重后的值\n",
    "# 统计sex列每个值的记录数\n",
    "# 打印sex列转换为大写后的值\n",
    "print(f'day列去重：{tips.day.unique().to_list()}')\n",
    "printSeperator()\n",
    "sexcount_df = tips.groupby('sex')['tip'].count()\n",
    "print(f'不同性别人数:\\n{sexcount_df}')\n",
    "printSeperator()\n",
    "uppser_sex = tips['sex'].apply(lambda name: name.upper())\n",
    "tips.sex = uppser_sex\n",
    "print(f'性别转大写：\\n{tips.head()}')"
   ]
  },
  {
   "cell_type": "markdown",
   "metadata": {
    "colab_type": "text",
    "id": "6hvFxu7RNfuR"
   },
   "source": [
    "# 第3题 排序、切片查询"
   ]
  },
  {
   "cell_type": "code",
   "execution_count": 18,
   "metadata": {
    "colab": {},
    "colab_type": "code",
    "id": "5oa1ayh0KJme"
   },
   "outputs": [
    {
     "data": {
      "text/html": [
       "<div>\n",
       "<style scoped>\n",
       "    .dataframe tbody tr th:only-of-type {\n",
       "        vertical-align: middle;\n",
       "    }\n",
       "\n",
       "    .dataframe tbody tr th {\n",
       "        vertical-align: top;\n",
       "    }\n",
       "\n",
       "    .dataframe thead th {\n",
       "        text-align: right;\n",
       "    }\n",
       "</style>\n",
       "<table border=\"1\" class=\"dataframe\">\n",
       "  <thead>\n",
       "    <tr style=\"text-align: right;\">\n",
       "      <th></th>\n",
       "      <th>total_bill</th>\n",
       "      <th>tip</th>\n",
       "      <th>sex</th>\n",
       "      <th>smoker</th>\n",
       "      <th>day</th>\n",
       "      <th>time</th>\n",
       "      <th>size</th>\n",
       "    </tr>\n",
       "  </thead>\n",
       "  <tbody>\n",
       "    <tr>\n",
       "      <th>170</th>\n",
       "      <td>50.81</td>\n",
       "      <td>10.00</td>\n",
       "      <td>MALE</td>\n",
       "      <td>Yes</td>\n",
       "      <td>Sat</td>\n",
       "      <td>Dinner</td>\n",
       "      <td>3</td>\n",
       "    </tr>\n",
       "    <tr>\n",
       "      <th>212</th>\n",
       "      <td>48.33</td>\n",
       "      <td>9.00</td>\n",
       "      <td>MALE</td>\n",
       "      <td>No</td>\n",
       "      <td>Sat</td>\n",
       "      <td>Dinner</td>\n",
       "      <td>4</td>\n",
       "    </tr>\n",
       "    <tr>\n",
       "      <th>59</th>\n",
       "      <td>48.27</td>\n",
       "      <td>6.73</td>\n",
       "      <td>MALE</td>\n",
       "      <td>No</td>\n",
       "      <td>Sat</td>\n",
       "      <td>Dinner</td>\n",
       "      <td>4</td>\n",
       "    </tr>\n",
       "    <tr>\n",
       "      <th>156</th>\n",
       "      <td>48.17</td>\n",
       "      <td>5.00</td>\n",
       "      <td>MALE</td>\n",
       "      <td>No</td>\n",
       "      <td>Sun</td>\n",
       "      <td>Dinner</td>\n",
       "      <td>6</td>\n",
       "    </tr>\n",
       "    <tr>\n",
       "      <th>182</th>\n",
       "      <td>45.35</td>\n",
       "      <td>3.50</td>\n",
       "      <td>MALE</td>\n",
       "      <td>Yes</td>\n",
       "      <td>Sun</td>\n",
       "      <td>Dinner</td>\n",
       "      <td>3</td>\n",
       "    </tr>\n",
       "    <tr>\n",
       "      <th>102</th>\n",
       "      <td>44.30</td>\n",
       "      <td>2.50</td>\n",
       "      <td>FEMALE</td>\n",
       "      <td>Yes</td>\n",
       "      <td>Sat</td>\n",
       "      <td>Dinner</td>\n",
       "      <td>3</td>\n",
       "    </tr>\n",
       "    <tr>\n",
       "      <th>197</th>\n",
       "      <td>43.11</td>\n",
       "      <td>5.00</td>\n",
       "      <td>FEMALE</td>\n",
       "      <td>Yes</td>\n",
       "      <td>Thur</td>\n",
       "      <td>Lunch</td>\n",
       "      <td>4</td>\n",
       "    </tr>\n",
       "    <tr>\n",
       "      <th>142</th>\n",
       "      <td>41.19</td>\n",
       "      <td>5.00</td>\n",
       "      <td>MALE</td>\n",
       "      <td>No</td>\n",
       "      <td>Thur</td>\n",
       "      <td>Lunch</td>\n",
       "      <td>5</td>\n",
       "    </tr>\n",
       "    <tr>\n",
       "      <th>184</th>\n",
       "      <td>40.55</td>\n",
       "      <td>3.00</td>\n",
       "      <td>MALE</td>\n",
       "      <td>Yes</td>\n",
       "      <td>Sun</td>\n",
       "      <td>Dinner</td>\n",
       "      <td>2</td>\n",
       "    </tr>\n",
       "    <tr>\n",
       "      <th>95</th>\n",
       "      <td>40.17</td>\n",
       "      <td>4.73</td>\n",
       "      <td>MALE</td>\n",
       "      <td>Yes</td>\n",
       "      <td>Fri</td>\n",
       "      <td>Dinner</td>\n",
       "      <td>4</td>\n",
       "    </tr>\n",
       "  </tbody>\n",
       "</table>\n",
       "</div>"
      ],
      "text/plain": [
       "     total_bill    tip     sex smoker   day    time  size\n",
       "170       50.81  10.00    MALE    Yes   Sat  Dinner     3\n",
       "212       48.33   9.00    MALE     No   Sat  Dinner     4\n",
       "59        48.27   6.73    MALE     No   Sat  Dinner     4\n",
       "156       48.17   5.00    MALE     No   Sun  Dinner     6\n",
       "182       45.35   3.50    MALE    Yes   Sun  Dinner     3\n",
       "102       44.30   2.50  FEMALE    Yes   Sat  Dinner     3\n",
       "197       43.11   5.00  FEMALE    Yes  Thur   Lunch     4\n",
       "142       41.19   5.00    MALE     No  Thur   Lunch     5\n",
       "184       40.55   3.00    MALE    Yes   Sun  Dinner     2\n",
       "95        40.17   4.73    MALE    Yes   Fri  Dinner     4"
      ]
     },
     "execution_count": 18,
     "metadata": {},
     "output_type": "execute_result"
    }
   ],
   "source": [
    "# 将tips按total_bill列倒序排序\n",
    "# 取出排前10的记录的这些列：total_bill、tip、time\n",
    "tips.sort_values(by='total_bill', ascending=False,inplace=True)\n",
    "tips.head(n=10)"
   ]
  },
  {
   "cell_type": "markdown",
   "metadata": {
    "colab_type": "text",
    "id": "RciASYNcRh1p"
   },
   "source": [
    "# 第4题 分组运算、重置索引"
   ]
  },
  {
   "cell_type": "code",
   "execution_count": 29,
   "metadata": {
    "colab": {},
    "colab_type": "code",
    "id": "NwORnu_zF2NO"
   },
   "outputs": [
    {
     "data": {
      "text/html": [
       "<div>\n",
       "<style scoped>\n",
       "    .dataframe tbody tr th:only-of-type {\n",
       "        vertical-align: middle;\n",
       "    }\n",
       "\n",
       "    .dataframe tbody tr th {\n",
       "        vertical-align: top;\n",
       "    }\n",
       "\n",
       "    .dataframe thead th {\n",
       "        text-align: right;\n",
       "    }\n",
       "</style>\n",
       "<table border=\"1\" class=\"dataframe\">\n",
       "  <thead>\n",
       "    <tr style=\"text-align: right;\">\n",
       "      <th></th>\n",
       "      <th>sex</th>\n",
       "      <th>time</th>\n",
       "      <th>min</th>\n",
       "      <th>max</th>\n",
       "      <th>sum</th>\n",
       "    </tr>\n",
       "  </thead>\n",
       "  <tbody>\n",
       "    <tr>\n",
       "      <th>0</th>\n",
       "      <td>MALE</td>\n",
       "      <td>Lunch</td>\n",
       "      <td>7.51</td>\n",
       "      <td>41.19</td>\n",
       "      <td>595.60</td>\n",
       "    </tr>\n",
       "    <tr>\n",
       "      <th>1</th>\n",
       "      <td>MALE</td>\n",
       "      <td>Dinner</td>\n",
       "      <td>7.25</td>\n",
       "      <td>50.81</td>\n",
       "      <td>2661.22</td>\n",
       "    </tr>\n",
       "    <tr>\n",
       "      <th>2</th>\n",
       "      <td>FEMALE</td>\n",
       "      <td>Lunch</td>\n",
       "      <td>8.35</td>\n",
       "      <td>43.11</td>\n",
       "      <td>571.87</td>\n",
       "    </tr>\n",
       "    <tr>\n",
       "      <th>3</th>\n",
       "      <td>FEMALE</td>\n",
       "      <td>Dinner</td>\n",
       "      <td>3.07</td>\n",
       "      <td>44.30</td>\n",
       "      <td>999.08</td>\n",
       "    </tr>\n",
       "  </tbody>\n",
       "</table>\n",
       "</div>"
      ],
      "text/plain": [
       "      sex    time   min    max      sum\n",
       "0    MALE   Lunch  7.51  41.19   595.60\n",
       "1    MALE  Dinner  7.25  50.81  2661.22\n",
       "2  FEMALE   Lunch  8.35  43.11   571.87\n",
       "3  FEMALE  Dinner  3.07  44.30   999.08"
      ]
     },
     "execution_count": 29,
     "metadata": {},
     "output_type": "execute_result"
    }
   ],
   "source": [
    " # 将tips按sex、time分组，并计算各组total_bill列的最小值、最大值、求和\n",
    " # 通过重置索引，将分层的结果平铺展示\n",
    "total_bill_stat = tips.groupby(['sex','time'])['total_bill'].agg(['min','max','sum'])\n",
    "total_bill_stat = total_bill_stat.reset_index()\n",
    "total_bill_stat"
   ]
  },
  {
   "cell_type": "markdown",
   "metadata": {
    "colab_type": "text",
    "id": "2qARVqoDYiCQ"
   },
   "source": [
    "# 第5题 新增列、数据类型转换"
   ]
  },
  {
   "cell_type": "code",
   "execution_count": 31,
   "metadata": {
    "colab": {},
    "colab_type": "code",
    "id": "ioBqW3Pjyig4"
   },
   "outputs": [
    {
     "data": {
      "text/html": [
       "<div>\n",
       "<style scoped>\n",
       "    .dataframe tbody tr th:only-of-type {\n",
       "        vertical-align: middle;\n",
       "    }\n",
       "\n",
       "    .dataframe tbody tr th {\n",
       "        vertical-align: top;\n",
       "    }\n",
       "\n",
       "    .dataframe thead th {\n",
       "        text-align: right;\n",
       "    }\n",
       "</style>\n",
       "<table border=\"1\" class=\"dataframe\">\n",
       "  <thead>\n",
       "    <tr style=\"text-align: right;\">\n",
       "      <th></th>\n",
       "      <th>total_bill</th>\n",
       "      <th>tip</th>\n",
       "      <th>sex</th>\n",
       "      <th>smoker</th>\n",
       "      <th>day</th>\n",
       "      <th>time</th>\n",
       "      <th>size</th>\n",
       "      <th>sex_str</th>\n",
       "    </tr>\n",
       "  </thead>\n",
       "  <tbody>\n",
       "    <tr>\n",
       "      <th>170</th>\n",
       "      <td>50.81</td>\n",
       "      <td>10.00</td>\n",
       "      <td>MALE</td>\n",
       "      <td>Yes</td>\n",
       "      <td>Sat</td>\n",
       "      <td>Dinner</td>\n",
       "      <td>3</td>\n",
       "      <td>MALE</td>\n",
       "    </tr>\n",
       "    <tr>\n",
       "      <th>212</th>\n",
       "      <td>48.33</td>\n",
       "      <td>9.00</td>\n",
       "      <td>MALE</td>\n",
       "      <td>No</td>\n",
       "      <td>Sat</td>\n",
       "      <td>Dinner</td>\n",
       "      <td>4</td>\n",
       "      <td>MALE</td>\n",
       "    </tr>\n",
       "    <tr>\n",
       "      <th>59</th>\n",
       "      <td>48.27</td>\n",
       "      <td>6.73</td>\n",
       "      <td>MALE</td>\n",
       "      <td>No</td>\n",
       "      <td>Sat</td>\n",
       "      <td>Dinner</td>\n",
       "      <td>4</td>\n",
       "      <td>MALE</td>\n",
       "    </tr>\n",
       "    <tr>\n",
       "      <th>156</th>\n",
       "      <td>48.17</td>\n",
       "      <td>5.00</td>\n",
       "      <td>MALE</td>\n",
       "      <td>No</td>\n",
       "      <td>Sun</td>\n",
       "      <td>Dinner</td>\n",
       "      <td>6</td>\n",
       "      <td>MALE</td>\n",
       "    </tr>\n",
       "    <tr>\n",
       "      <th>182</th>\n",
       "      <td>45.35</td>\n",
       "      <td>3.50</td>\n",
       "      <td>MALE</td>\n",
       "      <td>Yes</td>\n",
       "      <td>Sun</td>\n",
       "      <td>Dinner</td>\n",
       "      <td>3</td>\n",
       "      <td>MALE</td>\n",
       "    </tr>\n",
       "  </tbody>\n",
       "</table>\n",
       "</div>"
      ],
      "text/plain": [
       "     total_bill    tip   sex smoker  day    time  size sex_str\n",
       "170       50.81  10.00  MALE    Yes  Sat  Dinner     3    MALE\n",
       "212       48.33   9.00  MALE     No  Sat  Dinner     4    MALE\n",
       "59        48.27   6.73  MALE     No  Sat  Dinner     4    MALE\n",
       "156       48.17   5.00  MALE     No  Sun  Dinner     6    MALE\n",
       "182       45.35   3.50  MALE    Yes  Sun  Dinner     3    MALE"
      ]
     },
     "execution_count": 31,
     "metadata": {},
     "output_type": "execute_result"
    }
   ],
   "source": [
    "# 将sex列转换为字符串，放到新增的sex_str列\n",
    "sex_str = tips['sex'].apply(lambda val:str(val))\n",
    "tips['sex_str'] = sex_str\n",
    "tips.head()"
   ]
  },
  {
   "cell_type": "markdown",
   "metadata": {
    "colab_type": "text",
    "id": "pncZDZc34B4u"
   },
   "source": [
    "# 第6题 筛选"
   ]
  },
  {
   "cell_type": "code",
   "execution_count": 40,
   "metadata": {
    "colab": {},
    "colab_type": "code",
    "id": "8ue16IvUJljC"
   },
   "outputs": [
    {
     "name": "stdout",
     "output_type": "stream",
     "text": [
      "第一个结果：\n",
      "     total_bill  tip     sex smoker  day    time  size sex_str\n",
      "186       20.90  3.5  FEMALE    Yes  Sun  Dinner     3  FEMALE\n",
      "188       18.15  3.5  FEMALE    Yes  Sun  Dinner     3  FEMALE\n",
      "164       17.51  3.0  FEMALE    Yes  Sun  Dinner     2  FEMALE\n",
      "178        9.60  4.0  FEMALE    Yes  Sun  Dinner     2  FEMALE\n",
      "\n",
      "********************\n",
      "\n",
      "第二个结果：\n",
      "     total_bill   tip   sex smoker  day    time  size sex_str\n",
      "170       50.81  10.0  MALE    Yes  Sat  Dinner     3    MALE\n"
     ]
    }
   ],
   "source": [
    "# 提取tips的两个子集\n",
    "#    result1，筛选条件：sex为Female，smoker为Yes，day为Sun，提示：结果为4行记录\n",
    "#    result2，筛选条件：total_bill大于50，提示：结果为1行记录\n",
    "condition_female = tips.sex == 'FEMALE'\n",
    "condition_smoker = tips.smoker == 'Yes'\n",
    "condition_sun = tips.day == 'Sun'\n",
    "result1 = tips[condition_female & condition_smoker & condition_sun]\n",
    "print(f'第一个结果：\\n{result1}')\n",
    "printSeperator()\n",
    "\n",
    "condition_bill_gt_50 = tips.total_bill > 50\n",
    "result2 = tips[condition_bill_gt_50]\n",
    "print(f'第二个结果：\\n{result2}')\n"
   ]
  },
  {
   "cell_type": "markdown",
   "metadata": {
    "colab_type": "text",
    "id": "qt5EV-y69IYq"
   },
   "source": [
    "# 第7题 合并"
   ]
  },
  {
   "cell_type": "code",
   "execution_count": 82,
   "metadata": {
    "colab": {},
    "colab_type": "code",
    "id": "IXQ0oJxnzq6o"
   },
   "outputs": [
    {
     "name": "stdout",
     "output_type": "stream",
     "text": [
      "concat合并：\n",
      "     total_bill   tip     sex smoker  day    time  size sex_str\n",
      "186       20.90   3.5  FEMALE    Yes  Sun  Dinner     3  FEMALE\n",
      "188       18.15   3.5  FEMALE    Yes  Sun  Dinner     3  FEMALE\n",
      "164       17.51   3.0  FEMALE    Yes  Sun  Dinner     2  FEMALE\n",
      "178        9.60   4.0  FEMALE    Yes  Sun  Dinner     2  FEMALE\n",
      "170       50.81  10.0    MALE    Yes  Sat  Dinner     3    MALE\n",
      "\n",
      "********************\n",
      "\n",
      "append合并：\n",
      "     total_bill   tip     sex smoker  day    time  size sex_str\n",
      "186       20.90   3.5  FEMALE    Yes  Sun  Dinner     3  FEMALE\n",
      "188       18.15   3.5  FEMALE    Yes  Sun  Dinner     3  FEMALE\n",
      "164       17.51   3.0  FEMALE    Yes  Sun  Dinner     2  FEMALE\n",
      "178        9.60   4.0  FEMALE    Yes  Sun  Dinner     2  FEMALE\n",
      "170       50.81  10.0    MALE    Yes  Sat  Dinner     3    MALE\n"
     ]
    }
   ],
   "source": [
    "# 用两种方式，将上一题的result2合并到result1，提示：结果为5行记录\n",
    "result_concat = pd.concat([result1,result2])\n",
    "print(f'concat合并：\\n{result_concat}')\n",
    "printSeperator()\n",
    "\n",
    "result_append = result1.append(result2)\n",
    "print(f'append合并：\\n{result_append}')\n",
    "\n"
   ]
  },
  {
   "cell_type": "markdown",
   "metadata": {
    "colab_type": "text",
    "id": "SOKmNLYSBNS8"
   },
   "source": [
    "# 第8题 Time"
   ]
  },
  {
   "cell_type": "code",
   "execution_count": 90,
   "metadata": {
    "colab": {},
    "colab_type": "code",
    "id": "2iPNKwPUu2TG"
   },
   "outputs": [
    {
     "data": {
      "text/plain": [
       "2019"
      ]
     },
     "execution_count": 90,
     "metadata": {},
     "output_type": "execute_result"
    }
   ],
   "source": [
    "# 取出dates第一行记录的年份\n",
    "dates = pd.DataFrame(pd.date_range(start='2019-10-25', freq='Y', periods=5), columns=['date_dt'])\n",
    "year = dates.iloc[0]['date_dt'].year\n",
    "year\n"
   ]
  },
  {
   "cell_type": "markdown",
   "metadata": {
    "colab_type": "text",
    "id": "kgPOC45GM7MS"
   },
   "source": [
    "# 第9题 替换"
   ]
  },
  {
   "cell_type": "code",
   "execution_count": 94,
   "metadata": {
    "colab": {},
    "colab_type": "code",
    "id": "OzdyAoASM7gB"
   },
   "outputs": [
    {
     "data": {
      "text/html": [
       "<div>\n",
       "<style scoped>\n",
       "    .dataframe tbody tr th:only-of-type {\n",
       "        vertical-align: middle;\n",
       "    }\n",
       "\n",
       "    .dataframe tbody tr th {\n",
       "        vertical-align: top;\n",
       "    }\n",
       "\n",
       "    .dataframe thead th {\n",
       "        text-align: right;\n",
       "    }\n",
       "</style>\n",
       "<table border=\"1\" class=\"dataframe\">\n",
       "  <thead>\n",
       "    <tr style=\"text-align: right;\">\n",
       "      <th></th>\n",
       "      <th>total_bill</th>\n",
       "      <th>tip</th>\n",
       "      <th>sex</th>\n",
       "      <th>smoker</th>\n",
       "      <th>day</th>\n",
       "      <th>time</th>\n",
       "      <th>size</th>\n",
       "      <th>sex_str</th>\n",
       "    </tr>\n",
       "  </thead>\n",
       "  <tbody>\n",
       "    <tr>\n",
       "      <th>170</th>\n",
       "      <td>50.81</td>\n",
       "      <td>10.00</td>\n",
       "      <td>男</td>\n",
       "      <td>Yes</td>\n",
       "      <td>Sat</td>\n",
       "      <td>Dinner</td>\n",
       "      <td>3</td>\n",
       "      <td>MALE</td>\n",
       "    </tr>\n",
       "    <tr>\n",
       "      <th>212</th>\n",
       "      <td>48.33</td>\n",
       "      <td>9.00</td>\n",
       "      <td>男</td>\n",
       "      <td>No</td>\n",
       "      <td>Sat</td>\n",
       "      <td>Dinner</td>\n",
       "      <td>4</td>\n",
       "      <td>MALE</td>\n",
       "    </tr>\n",
       "    <tr>\n",
       "      <th>59</th>\n",
       "      <td>48.27</td>\n",
       "      <td>6.73</td>\n",
       "      <td>男</td>\n",
       "      <td>No</td>\n",
       "      <td>Sat</td>\n",
       "      <td>Dinner</td>\n",
       "      <td>4</td>\n",
       "      <td>MALE</td>\n",
       "    </tr>\n",
       "    <tr>\n",
       "      <th>156</th>\n",
       "      <td>48.17</td>\n",
       "      <td>5.00</td>\n",
       "      <td>男</td>\n",
       "      <td>No</td>\n",
       "      <td>Sun</td>\n",
       "      <td>Dinner</td>\n",
       "      <td>6</td>\n",
       "      <td>MALE</td>\n",
       "    </tr>\n",
       "    <tr>\n",
       "      <th>182</th>\n",
       "      <td>45.35</td>\n",
       "      <td>3.50</td>\n",
       "      <td>男</td>\n",
       "      <td>Yes</td>\n",
       "      <td>Sun</td>\n",
       "      <td>Dinner</td>\n",
       "      <td>3</td>\n",
       "      <td>MALE</td>\n",
       "    </tr>\n",
       "  </tbody>\n",
       "</table>\n",
       "</div>"
      ],
      "text/plain": [
       "     total_bill    tip sex smoker  day    time  size sex_str\n",
       "170       50.81  10.00   男    Yes  Sat  Dinner     3    MALE\n",
       "212       48.33   9.00   男     No  Sat  Dinner     4    MALE\n",
       "59        48.27   6.73   男     No  Sat  Dinner     4    MALE\n",
       "156       48.17   5.00   男     No  Sun  Dinner     6    MALE\n",
       "182       45.35   3.50   男    Yes  Sun  Dinner     3    MALE"
      ]
     },
     "execution_count": 94,
     "metadata": {},
     "output_type": "execute_result"
    }
   ],
   "source": [
    "# 将sex列的Female替换为女、Male替换为男\n",
    "tips.sex.replace(['FEMALE','MALE'],['女','男'],inplace=True)\n",
    "tips.head()"
   ]
  },
  {
   "cell_type": "markdown",
   "metadata": {
    "colab_type": "text",
    "id": "e9w5_7gSG--_"
   },
   "source": [
    "# 第10题 函数、应用"
   ]
  },
  {
   "cell_type": "code",
   "execution_count": 111,
   "metadata": {
    "colab": {},
    "colab_type": "code",
    "id": "QveO2YFYyrPu"
   },
   "outputs": [
    {
     "data": {
      "text/html": [
       "<div>\n",
       "<style scoped>\n",
       "    .dataframe tbody tr th:only-of-type {\n",
       "        vertical-align: middle;\n",
       "    }\n",
       "\n",
       "    .dataframe tbody tr th {\n",
       "        vertical-align: top;\n",
       "    }\n",
       "\n",
       "    .dataframe thead th {\n",
       "        text-align: right;\n",
       "    }\n",
       "</style>\n",
       "<table border=\"1\" class=\"dataframe\">\n",
       "  <thead>\n",
       "    <tr style=\"text-align: right;\">\n",
       "      <th></th>\n",
       "      <th>total_bill</th>\n",
       "      <th>tip</th>\n",
       "      <th>sex</th>\n",
       "      <th>smoker</th>\n",
       "      <th>day</th>\n",
       "      <th>time</th>\n",
       "      <th>size</th>\n",
       "      <th>sex_str</th>\n",
       "      <th>total_bill_int</th>\n",
       "    </tr>\n",
       "  </thead>\n",
       "  <tbody>\n",
       "    <tr>\n",
       "      <th>170</th>\n",
       "      <td>50.81</td>\n",
       "      <td>10.00</td>\n",
       "      <td>男</td>\n",
       "      <td>Yes</td>\n",
       "      <td>Sat</td>\n",
       "      <td>Dinner</td>\n",
       "      <td>3</td>\n",
       "      <td>MALE</td>\n",
       "      <td>50</td>\n",
       "    </tr>\n",
       "    <tr>\n",
       "      <th>212</th>\n",
       "      <td>48.33</td>\n",
       "      <td>9.00</td>\n",
       "      <td>男</td>\n",
       "      <td>No</td>\n",
       "      <td>Sat</td>\n",
       "      <td>Dinner</td>\n",
       "      <td>4</td>\n",
       "      <td>MALE</td>\n",
       "      <td>48</td>\n",
       "    </tr>\n",
       "    <tr>\n",
       "      <th>59</th>\n",
       "      <td>48.27</td>\n",
       "      <td>6.73</td>\n",
       "      <td>男</td>\n",
       "      <td>No</td>\n",
       "      <td>Sat</td>\n",
       "      <td>Dinner</td>\n",
       "      <td>4</td>\n",
       "      <td>MALE</td>\n",
       "      <td>48</td>\n",
       "    </tr>\n",
       "    <tr>\n",
       "      <th>156</th>\n",
       "      <td>48.17</td>\n",
       "      <td>5.00</td>\n",
       "      <td>男</td>\n",
       "      <td>No</td>\n",
       "      <td>Sun</td>\n",
       "      <td>Dinner</td>\n",
       "      <td>6</td>\n",
       "      <td>MALE</td>\n",
       "      <td>48</td>\n",
       "    </tr>\n",
       "    <tr>\n",
       "      <th>182</th>\n",
       "      <td>45.35</td>\n",
       "      <td>3.50</td>\n",
       "      <td>男</td>\n",
       "      <td>Yes</td>\n",
       "      <td>Sun</td>\n",
       "      <td>Dinner</td>\n",
       "      <td>3</td>\n",
       "      <td>MALE</td>\n",
       "      <td>45</td>\n",
       "    </tr>\n",
       "  </tbody>\n",
       "</table>\n",
       "</div>"
      ],
      "text/plain": [
       "     total_bill    tip sex smoker  day    time  size sex_str  total_bill_int\n",
       "170       50.81  10.00   男    Yes  Sat  Dinner     3    MALE              50\n",
       "212       48.33   9.00   男     No  Sat  Dinner     4    MALE              48\n",
       "59        48.27   6.73   男     No  Sat  Dinner     4    MALE              48\n",
       "156       48.17   5.00   男     No  Sun  Dinner     6    MALE              48\n",
       "182       45.35   3.50   男    Yes  Sun  Dinner     3    MALE              45"
      ]
     },
     "execution_count": 111,
     "metadata": {},
     "output_type": "execute_result"
    }
   ],
   "source": [
    "# 定义一个函数，将传入的值转换为int\n",
    "# 对tips的total_bill列运用该函数\n",
    "def convert_to_int(val):\n",
    "    ret = None\n",
    "    try:\n",
    "        ret = int(val)\n",
    "    except:\n",
    "        print('not valid int value')\n",
    "    finally:\n",
    "        return ret\n",
    "bill_floor = tips.total_bill.apply(convert_to_int)\n",
    "tips['total_bill_int'] = bill_floor\n",
    "tips.head()"
   ]
  }
 ],
 "metadata": {
  "colab": {
   "collapsed_sections": [],
   "name": "Pandas - 试题.ipynb",
   "provenance": [],
   "toc_visible": true
  },
  "kernelspec": {
   "display_name": "Python 3",
   "language": "python",
   "name": "python3"
  },
  "language_info": {
   "codemirror_mode": {
    "name": "ipython",
    "version": 3
   },
   "file_extension": ".py",
   "mimetype": "text/x-python",
   "name": "python",
   "nbconvert_exporter": "python",
   "pygments_lexer": "ipython3",
   "version": "3.8.3"
  },
  "toc": {
   "base_numbering": 1,
   "nav_menu": {},
   "number_sections": true,
   "sideBar": true,
   "skip_h1_title": false,
   "title_cell": "Table of Contents",
   "title_sidebar": "Contents",
   "toc_cell": false,
   "toc_position": {},
   "toc_section_display": true,
   "toc_window_display": false
  },
  "varInspector": {
   "cols": {
    "lenName": 16,
    "lenType": 16,
    "lenVar": 40
   },
   "kernels_config": {
    "python": {
     "delete_cmd_postfix": "",
     "delete_cmd_prefix": "del ",
     "library": "var_list.py",
     "varRefreshCmd": "print(var_dic_list())"
    },
    "r": {
     "delete_cmd_postfix": ") ",
     "delete_cmd_prefix": "rm(",
     "library": "var_list.r",
     "varRefreshCmd": "cat(var_dic_list()) "
    }
   },
   "types_to_exclude": [
    "module",
    "function",
    "builtin_function_or_method",
    "instance",
    "_Feature"
   ],
   "window_display": false
  }
 },
 "nbformat": 4,
 "nbformat_minor": 1
}
