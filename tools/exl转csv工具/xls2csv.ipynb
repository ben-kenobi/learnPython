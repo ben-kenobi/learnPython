{
 "cells": [
  {
   "cell_type": "code",
   "execution_count": 1,
   "metadata": {},
   "outputs": [
    {
     "name": "stdout",
     "output_type": "stream",
     "text": [
      "['Common', '门锁-HomeBaseMini', 'homekit_ios', 'Floodlight', 'Floodlight_SettingS', 'Alarm_System', 'solo_camera', '时区多语言', 'Geofencing', 'repeater', 'Geofencing-后台 ', 'Devices', 'Events', 'DeviceSetting', 'Mode', 'Sdcard_Upgrade', 'DrawerSettings', 'App_Special', 'Player', 'SmartDetection', 'Account', 'Bind', 'CloudStorage', 'Family', 'AppReview', 'richStrings', 'new_guide_page', 'Exception_HB2', 'other', 'Exception(Cloud)', 'Exception(Cloud)（副本）', 'menu_tab', 'push_ios', 'settings_ios', 'ios_infoplist_ios', 'server_message', '云存储套餐', 'server_email', 'Smart_Buoy']\n"
     ]
    }
   ],
   "source": [
    "import pandas as pd\n",
    "\n",
    "sys_usr = 'yf'\n",
    "i18n_dir = f'/Users/{sys_usr}/Desktop/I18N'\n",
    "eufy_security_file = pd.ExcelFile(f'{i18n_dir}/Eufy Security 翻译-190214.xlsx')\n",
    "# 打印sheet名，复制需要的sheet名\n",
    "print(eufy_security_file.sheet_names)\n"
   ]
  },
  {
   "cell_type": "code",
   "execution_count": 2,
   "metadata": {},
   "outputs": [],
   "source": [
    "# 创建需要的sheet名string文件的关联关系\n",
    "main_str_f = 'Localizable'\n",
    "main_csv_fs = ['Common', '门锁-HomeBaseMini', 'homekit_ios', 'Floodlight',\n",
    "               'Geofencing', 'repeater','Devices', 'Events', \n",
    "               'DeviceSetting', 'Mode', 'Sdcard_Upgrade', 'DrawerSettings',\n",
    "               'App_Special', 'Player', 'SmartDetection', 'Account', 'Bind', \n",
    "               'CloudStorage', 'Family', 'AppReview', 'richStrings',\n",
    "               'new_guide_page', 'Exception_HB2', 'other' ]\n",
    "\n",
    "setting_str_f = 'BCCommonSettingPlist'\n",
    "setting_csv_fs = ['Floodlight_SettingS','settings_ios']\n",
    "\n",
    "push_str_f = 'BCBaseLocalizable'\n",
    "push_csv_fs = ['push_ios']\n",
    "\n",
    "info_str_f = 'InfoPlist'\n",
    "info_csv_fs = ['ios_infoplist_ios']\n",
    "\n",
    "menu_str_f = 'MenuListPlist'\n",
    "menu_csv_fs = [ 'menu_tab']\n",
    "\n",
    "file_tree = {\n",
    "    main_str_f: main_csv_fs,\n",
    "    setting_str_f: setting_csv_fs,\n",
    "    push_str_f: push_csv_fs,\n",
    "    info_str_f: info_csv_fs,\n",
    "    menu_str_f: menu_csv_fs\n",
    "}"
   ]
  },
  {
   "cell_type": "code",
   "execution_count": 3,
   "metadata": {},
   "outputs": [],
   "source": [
    "# 遍历倒出成csv格式到指定目录\n",
    "from pathlib import Path\n",
    "\n",
    "\n",
    "def xls2csv_and_save(xlsfile, sheetname, dirname):\n",
    "    csv_dir = f'{i18n_dir}/{dirname}'\n",
    "    Path(csv_dir).mkdir(parents=True, exist_ok=True)\n",
    "    csv_f = f'{csv_dir}/{sheetname}.csv'\n",
    "    sheet_df = xlsfile.parse(sheetname)\n",
    "    sheet_df.to_csv(csv_f)\n",
    "\n",
    "\n",
    "for dirname, sheets in file_tree.items():\n",
    "    for sheetname in sheets:\n",
    "        xls2csv_and_save(eufy_security_file, sheetname, f'csvDir/{dirname}')\n"
   ]
  }
 ],
 "metadata": {
  "kernelspec": {
   "display_name": "Python 3",
   "language": "python",
   "name": "python3"
  },
  "language_info": {
   "codemirror_mode": {
    "name": "ipython",
    "version": 3
   },
   "file_extension": ".py",
   "mimetype": "text/x-python",
   "name": "python",
   "nbconvert_exporter": "python",
   "pygments_lexer": "ipython3",
   "version": "3.8.3"
  },
  "toc": {
   "base_numbering": 1,
   "nav_menu": {},
   "number_sections": true,
   "sideBar": true,
   "skip_h1_title": false,
   "title_cell": "Table of Contents",
   "title_sidebar": "Contents",
   "toc_cell": false,
   "toc_position": {},
   "toc_section_display": true,
   "toc_window_display": false
  },
  "varInspector": {
   "cols": {
    "lenName": 16,
    "lenType": 16,
    "lenVar": 40
   },
   "kernels_config": {
    "python": {
     "delete_cmd_postfix": "",
     "delete_cmd_prefix": "del ",
     "library": "var_list.py",
     "varRefreshCmd": "print(var_dic_list())"
    },
    "r": {
     "delete_cmd_postfix": ") ",
     "delete_cmd_prefix": "rm(",
     "library": "var_list.r",
     "varRefreshCmd": "cat(var_dic_list()) "
    }
   },
   "types_to_exclude": [
    "module",
    "function",
    "builtin_function_or_method",
    "instance",
    "_Feature"
   ],
   "window_display": false
  }
 },
 "nbformat": 4,
 "nbformat_minor": 4
}
