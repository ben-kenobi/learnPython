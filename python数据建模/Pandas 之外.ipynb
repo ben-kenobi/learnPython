{
 "cells": [
  {
   "cell_type": "markdown",
   "metadata": {},
   "source": [
    "# 性能\n",
    "* 过早的优化是万恶之源\n",
    "* 先编写可正常工作的代码，发现性能瓶颈后再进行优化\n",
    "* 使用 timeit 函数测试python语句或表达式的执行时间\n",
    "\n",
    "## 魔法命令\n",
    "* IPython提供了很多魔法命令，使得在IPython环境中的操作更加得心应手。魔法命令都以%或%%开头，以%开头的为行命令，以%%开头的为单元命令。行命令只对命令所在的行有效，而单元命令则必须出现在单元的第一行，对整个单元的代码进行处理[3]。\n",
    "* 执行%magic可以查看关于各个命令的说明：\n",
    "\n",
    "## 性能测试库\n",
    "* cProfile snakevis 工具有助于计算整个脚本和代码块的运行时间，并逐行列出执行情况。\n",
    "\n",
    "## 大数据计算\n",
    "* 有多种库和框架有助于扩大计算规模。\n",
    "* concurrent.futures 允许将函数调用重写为内置的map函数\n",
    "* Dask库可以用于处理大型数据集，它允许创建计算图（computational graph),其中只有’过时‘的计算才需要重新计算\n",
    "* Dask还支持在单机或集群中的多台机器上执行并行计算\n",
    "* Dask语法和pandas语法相同"
   ]
  },
  {
   "cell_type": "code",
   "execution_count": 18,
   "metadata": {},
   "outputs": [],
   "source": [
    "import pandas as pd\n",
    "import numpy as np"
   ]
  },
  {
   "cell_type": "code",
   "execution_count": 20,
   "metadata": {},
   "outputs": [],
   "source": [
    "%magic"
   ]
  },
  {
   "cell_type": "code",
   "execution_count": null,
   "metadata": {},
   "outputs": [],
   "source": []
  },
  {
   "cell_type": "code",
   "execution_count": 35,
   "metadata": {},
   "outputs": [],
   "source": [
    "# timeit\n",
    "df = pd.DataFrame(\n",
    "    {\n",
    "        'a':[10,20,30],\n",
    "        'b':[20,30,40]\n",
    "    }\n",
    ")\n",
    "\n",
    "def avg_apply(row):\n",
    "    x = row[0]\n",
    "    y = row[1]\n",
    "    if(x == 20):\n",
    "        return np.nan\n",
    "    else:\n",
    "        return (x+y)/2\n",
    "\n",
    "@np.vectorize\n",
    "def avg_apply_vec(x,y):\n",
    "    if(x == 20):\n",
    "        return np.nan\n",
    "    else:\n",
    "        return (x+y)/2\n",
    "    \n",
    "\n",
    "import numba\n",
    "@numba.vectorize\n",
    "def avg_apply_numba(x,y):\n",
    "    if(x == 20):\n",
    "        return np.nan\n",
    "    else:\n",
    "        return (x+y)/2"
   ]
  },
  {
   "cell_type": "code",
   "execution_count": 36,
   "metadata": {},
   "outputs": [
    {
     "name": "stdout",
     "output_type": "stream",
     "text": [
      "524 µs ± 2.51 µs per loop (mean ± std. dev. of 7 runs, 1000 loops each)\n"
     ]
    }
   ],
   "source": [
    "%%timeit\n",
    "\n",
    "# 比较不同求平均方法的性能\n",
    "\n",
    "df.apply(avg_apply,axis=1)"
   ]
  },
  {
   "cell_type": "code",
   "execution_count": 37,
   "metadata": {},
   "outputs": [
    {
     "name": "stdout",
     "output_type": "stream",
     "text": [
      "47 µs ± 1.79 µs per loop (mean ± std. dev. of 7 runs, 10000 loops each)\n"
     ]
    }
   ],
   "source": [
    "%%timeit\n",
    "\n",
    "avg_apply_vec(df['a'],df['b'])\n"
   ]
  },
  {
   "cell_type": "code",
   "execution_count": 39,
   "metadata": {},
   "outputs": [
    {
     "name": "stdout",
     "output_type": "stream",
     "text": [
      "3.9 µs ± 95.7 ns per loop (mean ± std. dev. of 7 runs, 100000 loops each)\n"
     ]
    }
   ],
   "source": [
    "%%timeit\n",
    "\n",
    "avg_apply_numba(df['a'].values , df['b'].values)"
   ]
  }
 ],
 "metadata": {
  "kernelspec": {
   "display_name": "Python 3",
   "language": "python",
   "name": "python3"
  },
  "language_info": {
   "codemirror_mode": {
    "name": "ipython",
    "version": 3
   },
   "file_extension": ".py",
   "mimetype": "text/x-python",
   "name": "python",
   "nbconvert_exporter": "python",
   "pygments_lexer": "ipython3",
   "version": "3.8.3"
  },
  "toc": {
   "base_numbering": 1,
   "nav_menu": {},
   "number_sections": true,
   "sideBar": true,
   "skip_h1_title": false,
   "title_cell": "Table of Contents",
   "title_sidebar": "Contents",
   "toc_cell": false,
   "toc_position": {},
   "toc_section_display": true,
   "toc_window_display": false
  },
  "varInspector": {
   "cols": {
    "lenName": 16,
    "lenType": 16,
    "lenVar": 40
   },
   "kernels_config": {
    "python": {
     "delete_cmd_postfix": "",
     "delete_cmd_prefix": "del ",
     "library": "var_list.py",
     "varRefreshCmd": "print(var_dic_list())"
    },
    "r": {
     "delete_cmd_postfix": ") ",
     "delete_cmd_prefix": "rm(",
     "library": "var_list.r",
     "varRefreshCmd": "cat(var_dic_list()) "
    }
   },
   "types_to_exclude": [
    "module",
    "function",
    "builtin_function_or_method",
    "instance",
    "_Feature"
   ],
   "window_display": false
  }
 },
 "nbformat": 4,
 "nbformat_minor": 4
}
