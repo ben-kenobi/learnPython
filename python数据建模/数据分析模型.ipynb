{
 "cells": [
  {
   "cell_type": "markdown",
   "metadata": {},
   "source": [
    "# 线性模型\n",
    "\n",
    "## 简单线性回归\n",
    "   * 目标是描述 `响应变量`（也叫 结果或因变量） 和 `预测变量`（也叫特征，协变量或自变量）之间的直线关系\n",
    "   \n",
    "## 多元回归\n",
    "   * 多元回归模型拟合数据集与拟合简单的线性回归模型非常相似\n"
   ]
  },
  {
   "cell_type": "markdown",
   "metadata": {},
   "source": [
    "# 广义线性模型（GLM）\n",
    "\n",
    "## 逻辑回归\n",
    "   * 当响应变量为二值响应变量时（YES NO），经常使用逻辑回归对数据建模\n",
    "   \n",
    "## 泊松回归\n",
    "   * 当响应变量涉及计数数据时，就需要用到泊松回归。\n",
    "   ### 负二项回归\n",
    "   * 当泊松回归的假设不理想（比如数据过于离散），可用负二项回归。\n",
    "   \n",
    "## 生存分析\n",
    "   * 技术上不算是回归方法，但当对某事件发送的时间建模时长用到它。常用于医学研究，临床数据跟踪分析等。\n",
    "\n",
    "## 其他GML\n",
    "   * 二项式分布\n",
    "   * 伽马分布\n",
    "   * 逆高斯分布\n",
    "   * 负二项式分布\n",
    "   * 柏松分布\n",
    "   * Tweedie分布"
   ]
  },
  {
   "cell_type": "markdown",
   "metadata": {},
   "source": [
    "# 模型诊断\n",
    "   * 创建模型是持续性活动。向模型中添加或删除变量时，需要设法比较模型，并需要统一的方法和标准来衡量模型的性能。这就是模型诊断\n",
    "   * 比较模型时，评估性能是最重要的一环\n",
    "   * 另一个衡量模型的重要维度是 测量模型误差。\n",
    "   \n",
    "## 单个模型诊断\n",
    "### 残差\n",
    "   * 模型的残差 指实际观测值与模型估计值之差\n",
    "   \n",
    "## 多个模型诊断\n",
    "### 方差分析\n",
    "### k折交叉验证\n",
    "   * 可用解释模型在新数据上的表现。把数据分成k个部分，其中一个部分用作测试集，其余用作训练集以拟合模型。模型拟合好之后，使用测试集进行测试，计算误差。不断重复这个过程，直到 k 个部分都测试过。模型的最终误差是所有模型的平均值。"
   ]
  },
  {
   "cell_type": "markdown",
   "metadata": {},
   "source": [
    "# 正则化\n",
    "* 一种用来防止数据过度拟合的技术，它通过为添加到模型中的每个特征施加一些惩罚来实现该目标。最终结果是从模型中删除一些变量，或减少模型的系数。这两种方法都降低模型对训练数据的拟合准确度，却能大大提高对未知数据的预测能力。这些方法可以结合使用（比如弹性网络），也可用通过交叉验证进行迭代和改进。\n",
    "\n",
    "## LASSO 回归 （L1正则化回归）\n",
    "\n",
    "\n",
    "## 岭回归 （L2正则化回归）\n",
    "\n",
    "## 弹性网 （结合L1和L2两种方法）\n",
    "\n",
    "## 交叉验证 \n",
    "* 是拟合模型的常用方法。还是选择最优正则化参数的方法\n"
   ]
  },
  {
   "cell_type": "markdown",
   "metadata": {},
   "source": [
    "# 无监督学习\n",
    "* 机器学习方法通常分为 监督学习和无监督学习，上面介绍的都是监督学习，因为都是用目标变量y或响应变量来训练模型，即在模型的训练数据中预设了‘正确’答案。在无监督学习这种建模方法中，没有所谓的‘正确’答案。\n",
    "* 探查数据集的隐含结构时，通常回用到无监督机器学习方法。\n",
    "\n",
    "## 聚类\n",
    "\n",
    "### k均值聚类\n",
    "\n",
    "### 层次聚类\n",
    "#### 最长距离法\n",
    "#### 最短距离法\n",
    "#### 平均距离法\n",
    "#### 重心法\n",
    "#### 手动设置阙值\n"
   ]
  }
 ],
 "metadata": {
  "kernelspec": {
   "display_name": "Python 3",
   "language": "python",
   "name": "python3"
  },
  "language_info": {
   "codemirror_mode": {
    "name": "ipython",
    "version": 3
   },
   "file_extension": ".py",
   "mimetype": "text/x-python",
   "name": "python",
   "nbconvert_exporter": "python",
   "pygments_lexer": "ipython3",
   "version": "3.8.3"
  },
  "toc": {
   "base_numbering": 1,
   "nav_menu": {},
   "number_sections": true,
   "sideBar": true,
   "skip_h1_title": false,
   "title_cell": "Table of Contents",
   "title_sidebar": "Contents",
   "toc_cell": false,
   "toc_position": {},
   "toc_section_display": true,
   "toc_window_display": false
  },
  "varInspector": {
   "cols": {
    "lenName": 16,
    "lenType": 16,
    "lenVar": 40
   },
   "kernels_config": {
    "python": {
     "delete_cmd_postfix": "",
     "delete_cmd_prefix": "del ",
     "library": "var_list.py",
     "varRefreshCmd": "print(var_dic_list())"
    },
    "r": {
     "delete_cmd_postfix": ") ",
     "delete_cmd_prefix": "rm(",
     "library": "var_list.r",
     "varRefreshCmd": "cat(var_dic_list()) "
    }
   },
   "types_to_exclude": [
    "module",
    "function",
    "builtin_function_or_method",
    "instance",
    "_Feature"
   ],
   "window_display": false
  }
 },
 "nbformat": 4,
 "nbformat_minor": 4
}
