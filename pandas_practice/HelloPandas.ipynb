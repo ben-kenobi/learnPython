{
 "cells": [
  {
   "cell_type": "code",
   "execution_count": 13,
   "metadata": {},
   "outputs": [
    {
     "name": "stdout",
     "output_type": "stream",
     "text": [
      "<class 'pandas.core.frame.DataFrame'>\n"
     ]
    }
   ],
   "source": [
    "import pandas as pd\n",
    "\n",
    "df = pd.read_csv('pushios.csv')\n",
    "# df.tail()\n",
    "print(type(df))\n",
    "# print(df.info())\n"
   ]
  },
  {
   "cell_type": "code",
   "execution_count": 20,
   "metadata": {},
   "outputs": [
    {
     "data": {
      "text/plain": [
       "(85, 12)"
      ]
     },
     "execution_count": 20,
     "metadata": {},
     "output_type": "execute_result"
    }
   ],
   "source": [
    "df.shape"
   ]
  },
  {
   "cell_type": "code",
   "execution_count": 22,
   "metadata": {},
   "outputs": [
    {
     "data": {
      "text/plain": [
       "Index(['IOS', ' Android', 'EN', 'CN', 'ES', 'FR', 'DE', 'IT', 'NL', 'AR', 'JP',\n",
       "       'KR'],\n",
       "      dtype='object')"
      ]
     },
     "execution_count": 22,
     "metadata": {},
     "output_type": "execute_result"
    }
   ],
   "source": [
    "df.columns"
   ]
  },
  {
   "cell_type": "code",
   "execution_count": 23,
   "metadata": {},
   "outputs": [
    {
     "data": {
      "text/plain": [
       "IOS          object\n",
       " Android    float64\n",
       "EN           object\n",
       "CN           object\n",
       "ES           object\n",
       "FR           object\n",
       "DE           object\n",
       "IT           object\n",
       "NL           object\n",
       "AR           object\n",
       "JP           object\n",
       "KR           object\n",
       "dtype: object"
      ]
     },
     "execution_count": 23,
     "metadata": {},
     "output_type": "execute_result"
    }
   ],
   "source": [
    "df.dtypes"
   ]
  },
  {
   "cell_type": "code",
   "execution_count": 24,
   "metadata": {},
   "outputs": [
    {
     "name": "stdout",
     "output_type": "stream",
     "text": [
      "<class 'pandas.core.frame.DataFrame'>\n",
      "RangeIndex: 85 entries, 0 to 84\n",
      "Data columns (total 12 columns):\n",
      " #   Column    Non-Null Count  Dtype  \n",
      "---  ------    --------------  -----  \n",
      " 0   IOS       83 non-null     object \n",
      " 1    Android  0 non-null      float64\n",
      " 2   EN        83 non-null     object \n",
      " 3   CN        56 non-null     object \n",
      " 4   ES        59 non-null     object \n",
      " 5   FR        59 non-null     object \n",
      " 6   DE        59 non-null     object \n",
      " 7   IT        59 non-null     object \n",
      " 8   NL        59 non-null     object \n",
      " 9   AR        59 non-null     object \n",
      " 10  JP        16 non-null     object \n",
      " 11  KR        22 non-null     object \n",
      "dtypes: float64(1), object(11)\n",
      "memory usage: 8.1+ KB\n"
     ]
    }
   ],
   "source": [
    "df.info()"
   ]
  },
  {
   "cell_type": "code",
   "execution_count": 29,
   "metadata": {},
   "outputs": [
    {
     "data": {
      "text/html": [
       "<div>\n",
       "<style scoped>\n",
       "    .dataframe tbody tr th:only-of-type {\n",
       "        vertical-align: middle;\n",
       "    }\n",
       "\n",
       "    .dataframe tbody tr th {\n",
       "        vertical-align: top;\n",
       "    }\n",
       "\n",
       "    .dataframe thead th {\n",
       "        text-align: right;\n",
       "    }\n",
       "</style>\n",
       "<table border=\"1\" class=\"dataframe\">\n",
       "  <thead>\n",
       "    <tr style=\"text-align: right;\">\n",
       "      <th></th>\n",
       "      <th>IOS</th>\n",
       "      <th>Android</th>\n",
       "      <th>EN</th>\n",
       "      <th>CN</th>\n",
       "      <th>ES</th>\n",
       "      <th>FR</th>\n",
       "      <th>DE</th>\n",
       "      <th>IT</th>\n",
       "      <th>NL</th>\n",
       "      <th>AR</th>\n",
       "      <th>JP</th>\n",
       "      <th>KR</th>\n",
       "    </tr>\n",
       "  </thead>\n",
       "  <tbody>\n",
       "    <tr>\n",
       "      <th>0</th>\n",
       "      <td>bc.push.sdcard_needformat_tip</td>\n",
       "      <td>NaN</td>\n",
       "      <td>microSD card needs to be formatted for storage...</td>\n",
       "      <td>SD卡需要被格式化，以为存储数据加密</td>\n",
       "      <td>La tarjeta microSD se tiene que formatear para...</td>\n",
       "      <td>La carte microSD doit être formatée pour chiff...</td>\n",
       "      <td>Die microSD-Karte muss für die Speicherverschl...</td>\n",
       "      <td>La scheda microSD deve essere formattata per l...</td>\n",
       "      <td>De microSD-kaart moet worden geformatteerd voo...</td>\n",
       "      <td>يجب تهيئة بطاقة microSD لتشفير التخزين.</td>\n",
       "      <td>NaN</td>\n",
       "      <td>NaN</td>\n",
       "    </tr>\n",
       "  </tbody>\n",
       "</table>\n",
       "</div>"
      ],
      "text/plain": [
       "                             IOS   Android  \\\n",
       "0  bc.push.sdcard_needformat_tip       NaN   \n",
       "\n",
       "                                                  EN                  CN  \\\n",
       "0  microSD card needs to be formatted for storage...  SD卡需要被格式化，以为存储数据加密   \n",
       "\n",
       "                                                  ES  \\\n",
       "0  La tarjeta microSD se tiene que formatear para...   \n",
       "\n",
       "                                                  FR  \\\n",
       "0  La carte microSD doit être formatée pour chiff...   \n",
       "\n",
       "                                                  DE  \\\n",
       "0  Die microSD-Karte muss für die Speicherverschl...   \n",
       "\n",
       "                                                  IT  \\\n",
       "0  La scheda microSD deve essere formattata per l...   \n",
       "\n",
       "                                                  NL  \\\n",
       "0  De microSD-kaart moet worden geformatteerd voo...   \n",
       "\n",
       "                                        AR   JP   KR  \n",
       "0  يجب تهيئة بطاقة microSD لتشفير التخزين.  NaN  NaN  "
      ]
     },
     "execution_count": 29,
     "metadata": {},
     "output_type": "execute_result"
    }
   ],
   "source": [
    "df[0:1]"
   ]
  },
  {
   "cell_type": "code",
   "execution_count": 26,
   "metadata": {},
   "outputs": [
    {
     "data": {
      "text/html": [
       "<div>\n",
       "<style scoped>\n",
       "    .dataframe tbody tr th:only-of-type {\n",
       "        vertical-align: middle;\n",
       "    }\n",
       "\n",
       "    .dataframe tbody tr th {\n",
       "        vertical-align: top;\n",
       "    }\n",
       "\n",
       "    .dataframe thead th {\n",
       "        text-align: right;\n",
       "    }\n",
       "</style>\n",
       "<table border=\"1\" class=\"dataframe\">\n",
       "  <thead>\n",
       "    <tr style=\"text-align: right;\">\n",
       "      <th></th>\n",
       "      <th>IOS</th>\n",
       "      <th>Android</th>\n",
       "      <th>EN</th>\n",
       "      <th>CN</th>\n",
       "      <th>ES</th>\n",
       "      <th>FR</th>\n",
       "      <th>DE</th>\n",
       "      <th>IT</th>\n",
       "      <th>NL</th>\n",
       "      <th>AR</th>\n",
       "      <th>JP</th>\n",
       "      <th>KR</th>\n",
       "    </tr>\n",
       "  </thead>\n",
       "  <tbody>\n",
       "    <tr>\n",
       "      <th>0</th>\n",
       "      <td>bc.push.sdcard_needformat_tip</td>\n",
       "      <td>NaN</td>\n",
       "      <td>microSD card needs to be formatted for storage...</td>\n",
       "      <td>SD卡需要被格式化，以为存储数据加密</td>\n",
       "      <td>La tarjeta microSD se tiene que formatear para...</td>\n",
       "      <td>La carte microSD doit être formatée pour chiff...</td>\n",
       "      <td>Die microSD-Karte muss für die Speicherverschl...</td>\n",
       "      <td>La scheda microSD deve essere formattata per l...</td>\n",
       "      <td>De microSD-kaart moet worden geformatteerd voo...</td>\n",
       "      <td>يجب تهيئة بطاقة microSD لتشفير التخزين.</td>\n",
       "      <td>NaN</td>\n",
       "      <td>NaN</td>\n",
       "    </tr>\n",
       "    <tr>\n",
       "      <th>1</th>\n",
       "      <td>bc.push.sdcard_format_fail_tip</td>\n",
       "      <td>NaN</td>\n",
       "      <td>Failed to format microSD card.</td>\n",
       "      <td>格式化SD卡失败</td>\n",
       "      <td>Fallo al formatear la tarjeta microSD.</td>\n",
       "      <td>Le formatage de la carte microSD a échoué.</td>\n",
       "      <td>Die microSD-Karte konnte nicht formatiert werden.</td>\n",
       "      <td>Impossibile formattare la scheda MicroSD.</td>\n",
       "      <td>microSD-kaart formatteren mislukt.</td>\n",
       "      <td>فشلت تهيئة بطاقة microSD.</td>\n",
       "      <td>NaN</td>\n",
       "      <td>NaN</td>\n",
       "    </tr>\n",
       "    <tr>\n",
       "      <th>2</th>\n",
       "      <td>bc.push.motion_detected</td>\n",
       "      <td>NaN</td>\n",
       "      <td>Motion detected.</td>\n",
       "      <td>检测到移动事件。</td>\n",
       "      <td>Se ha detectado movimiento.</td>\n",
       "      <td>Mouvement détecté.</td>\n",
       "      <td>Bewegung erkannt.</td>\n",
       "      <td>Rilevato movimento.</td>\n",
       "      <td>Beweging gedetecteerd.</td>\n",
       "      <td>تم اكتشاف حركة</td>\n",
       "      <td>NaN</td>\n",
       "      <td>NaN</td>\n",
       "    </tr>\n",
       "    <tr>\n",
       "      <th>3</th>\n",
       "      <td>bc.push.isopened</td>\n",
       "      <td>NaN</td>\n",
       "      <td>is opened</td>\n",
       "      <td>开了</td>\n",
       "      <td>se ha abierto</td>\n",
       "      <td>est ouvert</td>\n",
       "      <td>wurde geöffnet</td>\n",
       "      <td>è aperto</td>\n",
       "      <td>is geopend</td>\n",
       "      <td>مفتوح</td>\n",
       "      <td>NaN</td>\n",
       "      <td>NaN</td>\n",
       "    </tr>\n",
       "    <tr>\n",
       "      <th>4</th>\n",
       "      <td>bc.push.sdcard_busy_tip</td>\n",
       "      <td>NaN</td>\n",
       "      <td>microSD card is formatting.</td>\n",
       "      <td>SD卡正在格式化</td>\n",
       "      <td>La tarjeta microSD se está formateando.</td>\n",
       "      <td>Formatage de la carte microSD…</td>\n",
       "      <td>Die microSD-Karte wird formatiert.</td>\n",
       "      <td>La scheda microSD è in fase di formattazione.</td>\n",
       "      <td>De microSD-kaart wordt geformatteerd.</td>\n",
       "      <td>تتم تهيئة بطاقة microSD.</td>\n",
       "      <td>NaN</td>\n",
       "      <td>NaN</td>\n",
       "    </tr>\n",
       "  </tbody>\n",
       "</table>\n",
       "</div>"
      ],
      "text/plain": [
       "                              IOS   Android  \\\n",
       "0   bc.push.sdcard_needformat_tip       NaN   \n",
       "1  bc.push.sdcard_format_fail_tip       NaN   \n",
       "2         bc.push.motion_detected       NaN   \n",
       "3                bc.push.isopened       NaN   \n",
       "4         bc.push.sdcard_busy_tip       NaN   \n",
       "\n",
       "                                                  EN                  CN  \\\n",
       "0  microSD card needs to be formatted for storage...  SD卡需要被格式化，以为存储数据加密   \n",
       "1                     Failed to format microSD card.            格式化SD卡失败   \n",
       "2                                   Motion detected.            检测到移动事件。   \n",
       "3                                          is opened                  开了   \n",
       "4                        microSD card is formatting.            SD卡正在格式化   \n",
       "\n",
       "                                                  ES  \\\n",
       "0  La tarjeta microSD se tiene que formatear para...   \n",
       "1             Fallo al formatear la tarjeta microSD.   \n",
       "2                        Se ha detectado movimiento.   \n",
       "3                                      se ha abierto   \n",
       "4            La tarjeta microSD se está formateando.   \n",
       "\n",
       "                                                  FR  \\\n",
       "0  La carte microSD doit être formatée pour chiff...   \n",
       "1         Le formatage de la carte microSD a échoué.   \n",
       "2                                 Mouvement détecté.   \n",
       "3                                         est ouvert   \n",
       "4                     Formatage de la carte microSD…   \n",
       "\n",
       "                                                  DE  \\\n",
       "0  Die microSD-Karte muss für die Speicherverschl...   \n",
       "1  Die microSD-Karte konnte nicht formatiert werden.   \n",
       "2                                  Bewegung erkannt.   \n",
       "3                                     wurde geöffnet   \n",
       "4                 Die microSD-Karte wird formatiert.   \n",
       "\n",
       "                                                  IT  \\\n",
       "0  La scheda microSD deve essere formattata per l...   \n",
       "1          Impossibile formattare la scheda MicroSD.   \n",
       "2                                Rilevato movimento.   \n",
       "3                                           è aperto   \n",
       "4      La scheda microSD è in fase di formattazione.   \n",
       "\n",
       "                                                  NL  \\\n",
       "0  De microSD-kaart moet worden geformatteerd voo...   \n",
       "1                 microSD-kaart formatteren mislukt.   \n",
       "2                             Beweging gedetecteerd.   \n",
       "3                                         is geopend   \n",
       "4              De microSD-kaart wordt geformatteerd.   \n",
       "\n",
       "                                        AR   JP   KR  \n",
       "0  يجب تهيئة بطاقة microSD لتشفير التخزين.  NaN  NaN  \n",
       "1                فشلت تهيئة بطاقة microSD.  NaN  NaN  \n",
       "2                           تم اكتشاف حركة  NaN  NaN  \n",
       "3                                    مفتوح  NaN  NaN  \n",
       "4                 تتم تهيئة بطاقة microSD.  NaN  NaN  "
      ]
     },
     "execution_count": 26,
     "metadata": {},
     "output_type": "execute_result"
    }
   ],
   "source": [
    "df.head()"
   ]
  },
  {
   "cell_type": "code",
   "execution_count": 43,
   "metadata": {},
   "outputs": [
    {
     "data": {
      "text/html": [
       "<div>\n",
       "<style scoped>\n",
       "    .dataframe tbody tr th:only-of-type {\n",
       "        vertical-align: middle;\n",
       "    }\n",
       "\n",
       "    .dataframe tbody tr th {\n",
       "        vertical-align: top;\n",
       "    }\n",
       "\n",
       "    .dataframe thead th {\n",
       "        text-align: right;\n",
       "    }\n",
       "</style>\n",
       "<table border=\"1\" class=\"dataframe\">\n",
       "  <thead>\n",
       "    <tr style=\"text-align: right;\">\n",
       "      <th></th>\n",
       "      <th>IOS</th>\n",
       "      <th>EN</th>\n",
       "      <th>Android</th>\n",
       "    </tr>\n",
       "  </thead>\n",
       "  <tbody>\n",
       "    <tr>\n",
       "      <th>0</th>\n",
       "      <td>bc.push.sdcard_needformat_tip</td>\n",
       "      <td>microSD card needs to be formatted for storage...</td>\n",
       "      <td>NaN</td>\n",
       "    </tr>\n",
       "    <tr>\n",
       "      <th>1</th>\n",
       "      <td>bc.push.sdcard_format_fail_tip</td>\n",
       "      <td>Failed to format microSD card.</td>\n",
       "      <td>NaN</td>\n",
       "    </tr>\n",
       "    <tr>\n",
       "      <th>2</th>\n",
       "      <td>bc.push.motion_detected</td>\n",
       "      <td>Motion detected.</td>\n",
       "      <td>NaN</td>\n",
       "    </tr>\n",
       "    <tr>\n",
       "      <th>3</th>\n",
       "      <td>bc.push.isopened</td>\n",
       "      <td>is opened</td>\n",
       "      <td>NaN</td>\n",
       "    </tr>\n",
       "    <tr>\n",
       "      <th>4</th>\n",
       "      <td>bc.push.sdcard_busy_tip</td>\n",
       "      <td>microSD card is formatting.</td>\n",
       "      <td>NaN</td>\n",
       "    </tr>\n",
       "    <tr>\n",
       "      <th>...</th>\n",
       "      <td>...</td>\n",
       "      <td>...</td>\n",
       "      <td>...</td>\n",
       "    </tr>\n",
       "    <tr>\n",
       "      <th>80</th>\n",
       "      <td>esl.push.unlock.failed.content</td>\n",
       "      <td>Unable to unlock. The deadbolt may be stuck.</td>\n",
       "      <td>NaN</td>\n",
       "    </tr>\n",
       "    <tr>\n",
       "      <th>81</th>\n",
       "      <td>esl.push.tamperedWarn.content</td>\n",
       "      <td>Your lock has been tampered with.</td>\n",
       "      <td>NaN</td>\n",
       "    </tr>\n",
       "    <tr>\n",
       "      <th>82</th>\n",
       "      <td>esl.push.daylight_start.title</td>\n",
       "      <td>Daylight saving time has started.</td>\n",
       "      <td>NaN</td>\n",
       "    </tr>\n",
       "    <tr>\n",
       "      <th>83</th>\n",
       "      <td>esl.push.daylight_end.title</td>\n",
       "      <td>Daylight saving time has started.</td>\n",
       "      <td>NaN</td>\n",
       "    </tr>\n",
       "    <tr>\n",
       "      <th>84</th>\n",
       "      <td>esl.push.daylight.content</td>\n",
       "      <td>You can update the time of your lock %@ by con...</td>\n",
       "      <td>NaN</td>\n",
       "    </tr>\n",
       "  </tbody>\n",
       "</table>\n",
       "<p>85 rows × 3 columns</p>\n",
       "</div>"
      ],
      "text/plain": [
       "                               IOS  \\\n",
       "0    bc.push.sdcard_needformat_tip   \n",
       "1   bc.push.sdcard_format_fail_tip   \n",
       "2          bc.push.motion_detected   \n",
       "3                 bc.push.isopened   \n",
       "4          bc.push.sdcard_busy_tip   \n",
       "..                             ...   \n",
       "80  esl.push.unlock.failed.content   \n",
       "81   esl.push.tamperedWarn.content   \n",
       "82   esl.push.daylight_start.title   \n",
       "83     esl.push.daylight_end.title   \n",
       "84       esl.push.daylight.content   \n",
       "\n",
       "                                                   EN   Android  \n",
       "0   microSD card needs to be formatted for storage...       NaN  \n",
       "1                      Failed to format microSD card.       NaN  \n",
       "2                                    Motion detected.       NaN  \n",
       "3                                           is opened       NaN  \n",
       "4                         microSD card is formatting.       NaN  \n",
       "..                                                ...       ...  \n",
       "80       Unable to unlock. The deadbolt may be stuck.       NaN  \n",
       "81                  Your lock has been tampered with.       NaN  \n",
       "82                  Daylight saving time has started.       NaN  \n",
       "83                  Daylight saving time has started.       NaN  \n",
       "84  You can update the time of your lock %@ by con...       NaN  \n",
       "\n",
       "[85 rows x 3 columns]"
      ]
     },
     "execution_count": 43,
     "metadata": {},
     "output_type": "execute_result"
    }
   ],
   "source": [
    "df.iloc[:,[0,2,1]]"
   ]
  },
  {
   "cell_type": "code",
   "execution_count": 44,
   "metadata": {},
   "outputs": [
    {
     "data": {
      "text/plain": [
       "RangeIndex(start=0, stop=85, step=1)"
      ]
     },
     "execution_count": 44,
     "metadata": {},
     "output_type": "execute_result"
    }
   ],
   "source": [
    "df.index"
   ]
  },
  {
   "cell_type": "code",
   "execution_count": 52,
   "metadata": {},
   "outputs": [
    {
     "data": {
      "text/html": [
       "<div>\n",
       "<style scoped>\n",
       "    .dataframe tbody tr th:only-of-type {\n",
       "        vertical-align: middle;\n",
       "    }\n",
       "\n",
       "    .dataframe tbody tr th {\n",
       "        vertical-align: top;\n",
       "    }\n",
       "\n",
       "    .dataframe thead th {\n",
       "        text-align: right;\n",
       "    }\n",
       "</style>\n",
       "<table border=\"1\" class=\"dataframe\">\n",
       "  <thead>\n",
       "    <tr style=\"text-align: right;\">\n",
       "      <th></th>\n",
       "      <th>EN</th>\n",
       "      <th>CN</th>\n",
       "    </tr>\n",
       "  </thead>\n",
       "  <tbody>\n",
       "    <tr>\n",
       "      <th>2</th>\n",
       "      <td>Motion detected.</td>\n",
       "      <td>检测到移动事件。</td>\n",
       "    </tr>\n",
       "    <tr>\n",
       "      <th>4</th>\n",
       "      <td>microSD card is formatting.</td>\n",
       "      <td>SD卡正在格式化</td>\n",
       "    </tr>\n",
       "    <tr>\n",
       "      <th>6</th>\n",
       "      <td>is arriving.</td>\n",
       "      <td>来过</td>\n",
       "    </tr>\n",
       "  </tbody>\n",
       "</table>\n",
       "</div>"
      ],
      "text/plain": [
       "                            EN        CN\n",
       "2             Motion detected.  检测到移动事件。\n",
       "4  microSD card is formatting.  SD卡正在格式化\n",
       "6                 is arriving.        来过"
      ]
     },
     "execution_count": 52,
     "metadata": {},
     "output_type": "execute_result"
    }
   ],
   "source": [
    "df.loc[range(2,7,2),('EN','CN')]"
   ]
  },
  {
   "cell_type": "code",
   "execution_count": 62,
   "metadata": {},
   "outputs": [
    {
     "data": {
      "text/plain": [
       "pandas.core.frame.DataFrame"
      ]
     },
     "execution_count": 62,
     "metadata": {},
     "output_type": "execute_result"
    }
   ],
   "source": [
    "type(df.groupby('CN').mean())"
   ]
  },
  {
   "cell_type": "code",
   "execution_count": null,
   "metadata": {},
   "outputs": [],
   "source": []
  },
  {
   "cell_type": "code",
   "execution_count": null,
   "metadata": {},
   "outputs": [],
   "source": []
  }
 ],
 "metadata": {
  "kernelspec": {
   "display_name": "Python 3",
   "language": "python",
   "name": "python3"
  },
  "language_info": {
   "codemirror_mode": {
    "name": "ipython",
    "version": 3
   },
   "file_extension": ".py",
   "mimetype": "text/x-python",
   "name": "python",
   "nbconvert_exporter": "python",
   "pygments_lexer": "ipython3",
   "version": "3.8.3"
  }
 },
 "nbformat": 4,
 "nbformat_minor": 4
}
